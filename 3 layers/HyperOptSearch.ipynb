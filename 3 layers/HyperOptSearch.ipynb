{
 "cells": [
  {
   "cell_type": "code",
   "execution_count": null,
   "metadata": {
    "colab": {
     "base_uri": "https://localhost:8080/",
     "height": 125
    },
    "colab_type": "code",
    "executionInfo": {
     "elapsed": 25245,
     "status": "ok",
     "timestamp": 1594098291083,
     "user": {
      "displayName": "Sutirtha Chakraborty",
      "photoUrl": "",
      "userId": "01557635706590467789"
     },
     "user_tz": -60
    },
    "id": "aty8eqFppk0G",
    "outputId": "db59acca-1d1e-444b-e25a-4016d7a2c8d1"
   },
   "outputs": [],
   "source": [
    "from google.colab import drive\n",
    "drive.mount('/content/drive')"
   ]
  },
  {
   "cell_type": "code",
   "execution_count": null,
   "metadata": {
    "colab": {
     "base_uri": "https://localhost:8080/",
     "height": 101
    },
    "colab_type": "code",
    "id": "bp9fpo1Ikfwn",
    "outputId": "ed788b09-7536-4d46-871e-920b03d39931"
   },
   "outputs": [],
   "source": [
    "# If you are running on Google Colab, uncomment below to install the necessary dependencies \n",
    "# before beginning the exercise.\n",
    "\n",
    "print(\"Setting up colab environment\")\n",
    "!pip uninstall -y -q pyarrow\n",
    "!pip install -q https://s3-us-west-2.amazonaws.com/ray-wheels/latest/ray-0.8.0.dev5-cp36-cp36m-manylinux1_x86_64.whl\n",
    "!pip install -q ray[debug]\n",
    "\n",
    "# A hack to force the runtime to restart, needed to include the above dependencies.\n",
    "print(\"Done installing! Restarting via forced crash (this is not an issue).\")\n",
    "import os\n",
    "os._exit(0)"
   ]
  },
  {
   "cell_type": "code",
   "execution_count": null,
   "metadata": {
    "colab": {},
    "colab_type": "code",
    "executionInfo": {
     "elapsed": 523,
     "status": "ok",
     "timestamp": 1594098293986,
     "user": {
      "displayName": "Sutirtha Chakraborty",
      "photoUrl": "",
      "userId": "01557635706590467789"
     },
     "user_tz": -60
    },
    "id": "YHb-I_Vpkiu9"
   },
   "outputs": [],
   "source": [
    "# If you are running on Google Colab, please install TensorFlow 2.0 by uncommenting below..\n",
    "\n",
    "try:\n",
    "  # %tensorflow_version only exists in Colab.\n",
    "  %tensorflow_version 2.x\n",
    "except Exception:\n",
    "  pass"
   ]
  },
  {
   "cell_type": "code",
   "execution_count": null,
   "metadata": {
    "colab": {
     "base_uri": "https://localhost:8080/",
     "height": 976
    },
    "colab_type": "code",
    "executionInfo": {
     "elapsed": 13935,
     "status": "ok",
     "timestamp": 1594098308323,
     "user": {
      "displayName": "Sutirtha Chakraborty",
      "photoUrl": "",
      "userId": "01557635706590467789"
     },
     "user_tz": -60
    },
    "id": "aoxLAjPXnbGM",
    "outputId": "735b9add-3f55-42d4-ca61-072adb60cf37"
   },
   "outputs": [],
   "source": [
    "!pip3 install ray xlrd pandas  tensorboardX"
   ]
  },
  {
   "cell_type": "code",
   "execution_count": null,
   "metadata": {
    "colab": {
     "base_uri": "https://localhost:8080/",
     "height": 34
    },
    "colab_type": "code",
    "executionInfo": {
     "elapsed": 21463,
     "status": "ok",
     "timestamp": 1594098317684,
     "user": {
      "displayName": "Sutirtha Chakraborty",
      "photoUrl": "",
      "userId": "01557635706590467789"
     },
     "user_tz": -60
    },
    "id": "rgMRfSCAeesr",
    "outputId": "d386af7c-5fe0-4d25-baef-7374bfd6c146"
   },
   "outputs": [],
   "source": [
    "print(\"Setting up colab environment\")\n",
    "!pip3 uninstall -y -q pyarrow\n",
    "!pip3 install -q ray[debug]\n"
   ]
  },
  {
   "cell_type": "code",
   "execution_count": null,
   "metadata": {
    "colab": {},
    "colab_type": "code",
    "executionInfo": {
     "elapsed": 19637,
     "status": "ok",
     "timestamp": 1594098317687,
     "user": {
      "displayName": "Sutirtha Chakraborty",
      "photoUrl": "",
      "userId": "01557635706590467789"
     },
     "user_tz": -60
    },
    "id": "KU1Eb-fkhb1l"
   },
   "outputs": [],
   "source": [
    "# !pip3 install tensorflow keras scikit-learn pandas"
   ]
  },
  {
   "cell_type": "code",
   "execution_count": null,
   "metadata": {
    "colab": {},
    "colab_type": "code",
    "executionInfo": {
     "elapsed": 20357,
     "status": "ok",
     "timestamp": 1594098319619,
     "user": {
      "displayName": "Sutirtha Chakraborty",
      "photoUrl": "",
      "userId": "01557635706590467789"
     },
     "user_tz": -60
    },
    "id": "ApMfN5xMnJSU"
   },
   "outputs": [],
   "source": [
    "import numpy as np\n",
    "np.random.seed(0)\n",
    "\n",
    "import tensorflow as tf\n",
    "try:\n",
    "    tf.get_logger().setLevel('INFO')\n",
    "except Exception as exc:\n",
    "    print(exc)\n",
    "import warnings\n",
    "warnings.simplefilter(\"ignore\")\n",
    "\n",
    "from tensorflow.keras.models import Sequential\n",
    "from tensorflow.keras.layers import Dense, LSTM,Dropout\n",
    "\n",
    "from tensorflow.keras.optimizers import SGD, Adam\n",
    "from tensorflow.keras.callbacks import ModelCheckpoint\n",
    "\n",
    "from sklearn.model_selection import train_test_split\n",
    "\n",
    "import ray\n",
    "from ray import tune\n",
    "from ray.tune.examples.utils import get_iris_data\n",
    "\n",
    "import inspect\n",
    "import pandas as pd\n",
    "import matplotlib.pyplot as plt\n",
    "plt.style.use('ggplot')\n",
    "%matplotlib inline"
   ]
  },
  {
   "cell_type": "code",
   "execution_count": null,
   "metadata": {
    "colab": {
     "base_uri": "https://localhost:8080/",
     "height": 570
    },
    "colab_type": "code",
    "executionInfo": {
     "elapsed": 21052,
     "status": "ok",
     "timestamp": 1594098323106,
     "user": {
      "displayName": "Sutirtha Chakraborty",
      "photoUrl": "",
      "userId": "01557635706590467789"
     },
     "user_tz": -60
    },
    "id": "JE3O0Kbthb1s",
    "outputId": "3e643588-6abe-4ac3-bee3-3c8732ee35c6"
   },
   "outputs": [],
   "source": [
    "!pip3 install ray[tune] ray[rllib] matplotlib"
   ]
  },
  {
   "cell_type": "code",
   "execution_count": null,
   "metadata": {
    "colab": {},
    "colab_type": "code",
    "executionInfo": {
     "elapsed": 288100,
     "status": "ok",
     "timestamp": 1594098944957,
     "user": {
      "displayName": "Sutirtha Chakraborty",
      "photoUrl": "",
      "userId": "01557635706590467789"
     },
     "user_tz": -60
    },
    "id": "4HRWGKtZpu3i"
   },
   "outputs": [],
   "source": [
    "import os\n",
    "import pandas as pd\n",
    "path = \"/content/drive/My Drive/excels/\"\n",
    "files = os.listdir(path)\n",
    "\n",
    "files_xls = [f for f in files if f[-3:] == 'xls']\n",
    "df = pd.DataFrame()\n",
    "for f in files_xls:\n",
    "    fp=path+f\n",
    "    data = pd.read_excel(fp, 'Sheet')\n",
    "    data.columns = ['Time', 'output','outputPitch','outputVolm','Player1BPM','Player1Pitch','Player1Volm', 'Player2BPM','Player2Pitch','Player2Volm', 'Player3BPM','Player3Pitch','Player3Volm', 'Player4BPM','Player4Pitch','Player4Volm']\n",
    "    df = df.append(data)   \n",
    "df.columns = ['Time', 'output','outputPitch','outputVolm','Player1BPM','Player1Pitch','Player1Volm', 'Player2BPM','Player2Pitch','Player2Volm', 'Player3BPM','Player3Pitch','Player3Volm', 'Player4BPM','Player4Pitch','Player4Volm']\n",
    "y =  df[['output']]\n",
    "X = df[['Time','Player1BPM','Player1Pitch','Player1Volm', 'Player2BPM','Player2Pitch','Player2Volm', 'Player3BPM','Player3Pitch','Player3Volm', 'Player4BPM','Player4Pitch','Player4Volm']]"
   ]
  },
  {
   "cell_type": "code",
   "execution_count": null,
   "metadata": {
    "colab": {},
    "colab_type": "code",
    "executionInfo": {
     "elapsed": 287276,
     "status": "ok",
     "timestamp": 1594098944959,
     "user": {
      "displayName": "Sutirtha Chakraborty",
      "photoUrl": "",
      "userId": "01557635706590467789"
     },
     "user_tz": -60
    },
    "id": "qjYWgmARnJSY"
   },
   "outputs": [],
   "source": [
    "# df = pd.read_excel('/content/drive/My Drive/excels/A Classic Education - NightOwl.stem.xls', 'Sheet')\n",
    "# df.columns = ['Time', 'output','outputPitch','outputVolm','Player1BPM','Player1Pitch','Player1Volm', 'Player2BPM','Player2Pitch','Player2Volm', 'Player3BPM','Player3Pitch','Player3Volm', 'Player4BPM','Player4Pitch','Player4Volm']\n",
    "# y =  df[['output']]\n",
    "# X = df[['Time','Player1BPM','Player1Pitch','Player1Volm', 'Player2BPM','Player2Pitch','Player2Volm', 'Player3BPM','Player3Pitch','Player3Volm', 'Player4BPM','Player4Pitch','Player4Volm']]"
   ]
  },
  {
   "cell_type": "code",
   "execution_count": null,
   "metadata": {
    "colab": {
     "base_uri": "https://localhost:8080/",
     "height": 191
    },
    "colab_type": "code",
    "executionInfo": {
     "elapsed": 286509,
     "status": "ok",
     "timestamp": 1594098944960,
     "user": {
      "displayName": "Sutirtha Chakraborty",
      "photoUrl": "",
      "userId": "01557635706590467789"
     },
     "user_tz": -60
    },
    "id": "vNj36EimnJSd",
    "outputId": "72e2284f-a9f9-4f5a-cc9a-2a0ad3e26528"
   },
   "outputs": [],
   "source": [
    "X.head()"
   ]
  },
  {
   "cell_type": "code",
   "execution_count": null,
   "metadata": {
    "colab": {
     "base_uri": "https://localhost:8080/",
     "height": 191
    },
    "colab_type": "code",
    "executionInfo": {
     "elapsed": 285424,
     "status": "ok",
     "timestamp": 1594098944962,
     "user": {
      "displayName": "Sutirtha Chakraborty",
      "photoUrl": "",
      "userId": "01557635706590467789"
     },
     "user_tz": -60
    },
    "id": "ubR9W1htnJSh",
    "outputId": "2369b8c1-c3b8-458c-a844-f14450f3c2da"
   },
   "outputs": [],
   "source": [
    "y.head()"
   ]
  },
  {
   "cell_type": "code",
   "execution_count": null,
   "metadata": {
    "colab": {},
    "colab_type": "code",
    "executionInfo": {
     "elapsed": 284951,
     "status": "ok",
     "timestamp": 1594098945199,
     "user": {
      "displayName": "Sutirtha Chakraborty",
      "photoUrl": "",
      "userId": "01557635706590467789"
     },
     "user_tz": -60
    },
    "id": "LaJHpUXWnJSv"
   },
   "outputs": [],
   "source": [
    "train_x, test_x, train_y, test_y = train_test_split(X, y, test_size=0.1,shuffle=False,random_state=42)"
   ]
  },
  {
   "cell_type": "code",
   "execution_count": null,
   "metadata": {
    "colab": {},
    "colab_type": "code",
    "executionInfo": {
     "elapsed": 284781,
     "status": "ok",
     "timestamp": 1594098945749,
     "user": {
      "displayName": "Sutirtha Chakraborty",
      "photoUrl": "",
      "userId": "01557635706590467789"
     },
     "user_tz": -60
    },
    "id": "b1J3d_1inJSk"
   },
   "outputs": [],
   "source": [
    "from sklearn.preprocessing import MinMaxScaler\n",
    "scaler_X = MinMaxScaler()\n",
    "X_train_scaled = scaler_X.fit_transform(train_x)\n",
    "X_test_scaled = scaler_X.transform(test_x)"
   ]
  },
  {
   "cell_type": "code",
   "execution_count": null,
   "metadata": {
    "colab": {
     "base_uri": "https://localhost:8080/",
     "height": 50
    },
    "colab_type": "code",
    "executionInfo": {
     "elapsed": 284175,
     "status": "ok",
     "timestamp": 1594098945752,
     "user": {
      "displayName": "Sutirtha Chakraborty",
      "photoUrl": "",
      "userId": "01557635706590467789"
     },
     "user_tz": -60
    },
    "id": "wbdX_iVMWuQ4",
    "outputId": "bd45e1ea-b18e-4d4b-d3f6-fc55ae404059"
   },
   "outputs": [],
   "source": [
    "train_x = np.array(X_train_scaled) #X_train_scaled\n",
    "train_x = train_x[:, :, None]\n",
    "print(train_x.shape)\n",
    "test_x = np.array(X_test_scaled)#X_test_scaled\n",
    "test_x = test_x[:, :, None]\n",
    "print(test_x.shape)"
   ]
  },
  {
   "cell_type": "code",
   "execution_count": null,
   "metadata": {
    "colab": {},
    "colab_type": "code",
    "executionInfo": {
     "elapsed": 283592,
     "status": "ok",
     "timestamp": 1594098945754,
     "user": {
      "displayName": "Sutirtha Chakraborty",
      "photoUrl": "",
      "userId": "01557635706590467789"
     },
     "user_tz": -60
    },
    "id": "XXVvvnBNnJSp"
   },
   "outputs": [],
   "source": [
    "###############------------- ORIGINAL ONE WITH 3 LAYERS------------############ RUNNING SUCCESSFully\n",
    "# def create_model(learning_rate, dense_1, dense_2 ,dense_3):\n",
    "#     assert learning_rate > 0 and dense_1 > 0 and dense_2 > 0, \"Did you set the right configuration?\"\n",
    "#     model = Sequential()\n",
    "#     model.add(Dense(int(dense_1), input_shape=(13, ), activation='relu', name='fc1'))\n",
    "#     model.add(Dense(int(dense_2), activation='relu', name='fc2'))\n",
    "#     model.add(Dense(int(dense_2), activation='relu', name='fc3'))\n",
    "#     model.add(Dense(1, activation='relu', name='output'))\n",
    "#     optimizer = SGD(lr=learning_rate)\n",
    "#     model.compile(optimizer, loss='mae', metrics=['mse'])\n",
    "#     return model"
   ]
  },
  {
   "cell_type": "code",
   "execution_count": null,
   "metadata": {
    "colab": {},
    "colab_type": "code",
    "executionInfo": {
     "elapsed": 282921,
     "status": "ok",
     "timestamp": 1594098945755,
     "user": {
      "displayName": "Sutirtha Chakraborty",
      "photoUrl": "",
      "userId": "01557635706590467789"
     },
     "user_tz": -60
    },
    "id": "wIUdTSSjTuGo"
   },
   "outputs": [],
   "source": [
    "###############------------- LSTM ONE WITH 3 LAYERS------------############\n",
    "def create_model(learning_rate, lstm_1, lstm_2 ,lstm_3):\n",
    "    model = Sequential()\n",
    "    model.add(LSTM(int(lstm_1), return_sequences=True, input_shape=(13, 1)))\n",
    "    model.add(Dropout(0.3))\n",
    "    model.add(LSTM(int(lstm_2), return_sequences=True))\n",
    "    model.add(Dropout(0.3))\n",
    "    model.add(LSTM(int(lstm_3)))\n",
    "    model.add(Dropout(0.0))\n",
    "    model.add(Dense(units=1))\n",
    "    optimizer = SGD(lr=learning_rate)\n",
    "    model.compile(optimizer, loss='mae', metrics=['mse'])\n",
    "    return model"
   ]
  },
  {
   "cell_type": "code",
   "execution_count": null,
   "metadata": {
    "colab": {},
    "colab_type": "code",
    "executionInfo": {
     "elapsed": 282359,
     "status": "ok",
     "timestamp": 1594098945757,
     "user": {
      "displayName": "Sutirtha Chakraborty",
      "photoUrl": "",
      "userId": "01557635706590467789"
     },
     "user_tz": -60
    },
    "id": "gBL0LyZPnJS0"
   },
   "outputs": [],
   "source": [
    "# model = create_model(learning_rate=0.1, dense_1 = 2, dense_2 = 2,dense_3=2)"
   ]
  },
  {
   "cell_type": "code",
   "execution_count": null,
   "metadata": {
    "colab": {},
    "colab_type": "code",
    "executionInfo": {
     "elapsed": 282706,
     "status": "ok",
     "timestamp": 1594098947123,
     "user": {
      "displayName": "Sutirtha Chakraborty",
      "photoUrl": "",
      "userId": "01557635706590467789"
     },
     "user_tz": -60
    },
    "id": "JphdsLdoTcav"
   },
   "outputs": [],
   "source": [
    "model = create_model(learning_rate=0.1, lstm_1 = 50, lstm_2 = 50,lstm_3=50)"
   ]
  },
  {
   "cell_type": "code",
   "execution_count": null,
   "metadata": {
    "colab": {
     "base_uri": "https://localhost:8080/",
     "height": 375
    },
    "colab_type": "code",
    "executionInfo": {
     "elapsed": 282030,
     "status": "ok",
     "timestamp": 1594098947125,
     "user": {
      "displayName": "Sutirtha Chakraborty",
      "photoUrl": "",
      "userId": "01557635706590467789"
     },
     "user_tz": -60
    },
    "id": "5xYKcbyznJS3",
    "outputId": "a7fd9fe4-d8d2-4af0-b0a2-16bf9a2088c9"
   },
   "outputs": [],
   "source": [
    "model.summary()"
   ]
  },
  {
   "cell_type": "code",
   "execution_count": null,
   "metadata": {
    "colab": {},
    "colab_type": "code",
    "executionInfo": {
     "elapsed": 281402,
     "status": "ok",
     "timestamp": 1594098947126,
     "user": {
      "displayName": "Sutirtha Chakraborty",
      "photoUrl": "",
      "userId": "01557635706590467789"
     },
     "user_tz": -60
    },
    "id": "RvJ_wAUdnJS6"
   },
   "outputs": [],
   "source": [
    "# test_model = model.fit(train_x, train_y, validation_data=(test_x, test_y), verbose=1, batch_size = 512, epochs = 2)"
   ]
  },
  {
   "cell_type": "code",
   "execution_count": null,
   "metadata": {
    "colab": {},
    "colab_type": "code",
    "executionInfo": {
     "elapsed": 280837,
     "status": "ok",
     "timestamp": 1594098947127,
     "user": {
      "displayName": "Sutirtha Chakraborty",
      "photoUrl": "",
      "userId": "01557635706590467789"
     },
     "user_tz": -60
    },
    "id": "j59HXjLvnJS8"
   },
   "outputs": [],
   "source": [
    "def train_on_iris():\n",
    "    model = create_model(learning_rate=0.1, lstm_1 = 512, lstm_2 = 512, lstm_3 = 512)\n",
    "    # This saves the top model. `accuracy` is only available in TF2.0.\n",
    "    checkpoint_callback = ModelCheckpoint(\"model.h5\", monitor='mse', save_best_only=True, save_freq=2)\n",
    "\n",
    "    # Train the model\n",
    "    model.fit(\n",
    "        train_x, train_y, \n",
    "        validation_data=(test_x, test_y),\n",
    "        verbose=1, batch_size=512, epochs=2, callbacks=[checkpoint_callback])\n",
    "    return model"
   ]
  },
  {
   "cell_type": "code",
   "execution_count": null,
   "metadata": {
    "colab": {},
    "colab_type": "code",
    "executionInfo": {
     "elapsed": 280084,
     "status": "ok",
     "timestamp": 1594098947128,
     "user": {
      "displayName": "Sutirtha Chakraborty",
      "photoUrl": "",
      "userId": "01557635706590467789"
     },
     "user_tz": -60
    },
    "id": "s6nvr-VBnJS-"
   },
   "outputs": [],
   "source": [
    "#original_model = train_on_iris()"
   ]
  },
  {
   "cell_type": "code",
   "execution_count": null,
   "metadata": {
    "colab": {
     "base_uri": "https://localhost:8080/",
     "height": 223
    },
    "colab_type": "code",
    "executionInfo": {
     "elapsed": 278909,
     "status": "error",
     "timestamp": 1594098947132,
     "user": {
      "displayName": "Sutirtha Chakraborty",
      "photoUrl": "",
      "userId": "01557635706590467789"
     },
     "user_tz": -60
    },
    "id": "7WT75FuLqkbX",
    "outputId": "295e0d90-ed5d-410e-ff92-4cd5da8bed87"
   },
   "outputs": [],
   "source": [
    "# Open the file\n",
    "with open('/content/drive/My Drive/HyperOptSearchreport_orig.txt','w') as fh:\n",
    "    # Pass the file handle in as a lambda function to make it callable\n",
    "    original_model.summary(print_fn=lambda x: fh.write(x + '\\n'))\n",
    "\n",
    "print(original_model.summary())"
   ]
  },
  {
   "cell_type": "code",
   "execution_count": null,
   "metadata": {
    "colab": {},
    "colab_type": "code",
    "executionInfo": {
     "elapsed": 583,
     "status": "ok",
     "timestamp": 1594098968773,
     "user": {
      "displayName": "Sutirtha Chakraborty",
      "photoUrl": "",
      "userId": "01557635706590467789"
     },
     "user_tz": -60
    },
    "id": "HDNFmEP1nJTB"
   },
   "outputs": [],
   "source": [
    "import tensorflow.keras as keras\n",
    "from ray.tune import track"
   ]
  },
  {
   "cell_type": "code",
   "execution_count": null,
   "metadata": {
    "colab": {},
    "colab_type": "code",
    "executionInfo": {
     "elapsed": 548,
     "status": "ok",
     "timestamp": 1594098971162,
     "user": {
      "displayName": "Sutirtha Chakraborty",
      "photoUrl": "",
      "userId": "01557635706590467789"
     },
     "user_tz": -60
    },
    "id": "2jqJzMlGBcsg"
   },
   "outputs": [],
   "source": [
    "    # config = {\n",
    "    #     \"num_samples\": 10 ,\n",
    "    #     \"config\": {\n",
    "    #         \"iterations\": 100,\n",
    "    #     },\n",
    "    #     \"stop\": {\n",
    "    #         \"timesteps_total\": 100\n",
    "    #     },\n",
    "    # }"
   ]
  },
  {
   "cell_type": "code",
   "execution_count": null,
   "metadata": {
    "colab": {},
    "colab_type": "code",
    "executionInfo": {
     "elapsed": 555,
     "status": "ok",
     "timestamp": 1594098972189,
     "user": {
      "displayName": "Sutirtha Chakraborty",
      "photoUrl": "",
      "userId": "01557635706590467789"
     },
     "user_tz": -60
    },
    "id": "_g6k5UzqnJTD"
   },
   "outputs": [],
   "source": [
    "class TuneReporterCallback(keras.callbacks.Callback):\n",
    "    def __init__(self, logs={}):\n",
    "        self.iteration = 0\n",
    "        super(TuneReporterCallback, self).__init__()\n",
    "\n",
    "    def on_epoch_end(self, batch, logs={}):\n",
    "        self.iteration += 1\n",
    "        track.log(keras_info=logs, mean_accuracy=logs.get(\"mse\"), mean_loss=logs.get(\"mae\"))\n"
   ]
  },
  {
   "cell_type": "code",
   "execution_count": null,
   "metadata": {
    "colab": {},
    "colab_type": "code",
    "executionInfo": {
     "elapsed": 485,
     "status": "ok",
     "timestamp": 1594100233954,
     "user": {
      "displayName": "Sutirtha Chakraborty",
      "photoUrl": "",
      "userId": "01557635706590467789"
     },
     "user_tz": -60
    },
    "id": "z9_z4Kl9V_-u"
   },
   "outputs": [],
   "source": [
    "def tune_iris(config):  # TODO: Change me.\n",
    "    model = create_model(learning_rate=config[\"lr\"], lstm_1=config[\"lstm_1\"], lstm_2=config[\"lstm_2\"],lstm_3=config[\"lstm_3\"])\n",
    "    checkpoint_callback = ModelCheckpoint(\n",
    "        \"model.h5\", monitor='loss', save_best_only=True, save_freq=2)\n",
    "\n",
    "    # Enable Tune to make intermediate decisions by using a Tune Callback hook. This is Keras specific.\n",
    "    callbacks = [checkpoint_callback, TuneReporterCallback()]\n",
    "    \n",
    "    # Train the model\n",
    "    model.fit(\n",
    "        train_x, train_y, \n",
    "        validation_data=(test_x, test_y),\n",
    "        verbose=1, \n",
    "        batch_size=512, \n",
    "        epochs=10, \n",
    "        callbacks=callbacks)"
   ]
  },
  {
   "cell_type": "code",
   "execution_count": null,
   "metadata": {
    "colab": {},
    "colab_type": "code",
    "executionInfo": {
     "elapsed": 372,
     "status": "ok",
     "timestamp": 1594100234651,
     "user": {
      "displayName": "Sutirtha Chakraborty",
      "photoUrl": "",
      "userId": "01557635706590467789"
     },
     "user_tz": -60
    },
    "id": "dpFv-Q8LnJTJ"
   },
   "outputs": [],
   "source": [
    "assert len(inspect.getargspec(tune_iris).args) == 1, \"The `tune_iris` function needs to take in the arg `config`.\""
   ]
  },
  {
   "cell_type": "code",
   "execution_count": null,
   "metadata": {
    "colab": {
     "base_uri": "https://localhost:8080/",
     "height": 380
    },
    "colab_type": "code",
    "executionInfo": {
     "elapsed": 562,
     "status": "error",
     "timestamp": 1594100235881,
     "user": {
      "displayName": "Sutirtha Chakraborty",
      "photoUrl": "",
      "userId": "01557635706590467789"
     },
     "user_tz": -60
    },
    "id": "ejdTIlRUnJTM",
    "outputId": "9e1ba1c9-97d9-4fac-f7a6-0bea57a69562"
   },
   "outputs": [],
   "source": [
    "print(\"Test-running to make sure this function will run correctly.\")\n",
    "tune.track.init()  # For testing purposes only.\n",
    "tune_iris({\"lr\": 0.1, \"lstm_1\": 64, \"lstm_2\": 32, \"lstm_3\": 1})\n",
    "print(\"Success!\")"
   ]
  },
  {
   "cell_type": "code",
   "execution_count": null,
   "metadata": {
    "colab": {},
    "colab_type": "code",
    "executionInfo": {
     "elapsed": 493,
     "status": "ok",
     "timestamp": 1594100240374,
     "user": {
      "displayName": "Sutirtha Chakraborty",
      "photoUrl": "",
      "userId": "01557635706590467789"
     },
     "user_tz": -60
    },
    "id": "a-_fsOVynJTO"
   },
   "outputs": [],
   "source": [
    "hyperparameter_space = {\n",
    "    \"lr\": tune.loguniform(0.001, 0.1),  \n",
    "    \"lstm_1\": tune.uniform(2, 128),\n",
    "    \"lstm_2\": tune.uniform(2, 128),\n",
    "    \"lstm_3\": tune.uniform(2, 128),\n",
    "}"
   ]
  },
  {
   "cell_type": "code",
   "execution_count": null,
   "metadata": {
    "colab": {
     "base_uri": "https://localhost:8080/",
     "height": 173
    },
    "colab_type": "code",
    "executionInfo": {
     "elapsed": 4924,
     "status": "ok",
     "timestamp": 1594100248355,
     "user": {
      "displayName": "Sutirtha Chakraborty",
      "photoUrl": "",
      "userId": "01557635706590467789"
     },
     "user_tz": -60
    },
    "id": "0L4ed3Em_UDd",
    "outputId": "8b21eaea-b351-4530-d92a-f36470c29f97"
   },
   "outputs": [],
   "source": [
    "pip install -U hyperopt\n"
   ]
  },
  {
   "cell_type": "code",
   "execution_count": null,
   "metadata": {
    "colab": {
     "base_uri": "https://localhost:8080/",
     "height": 1000
    },
    "colab_type": "code",
    "id": "kEE6ckuFnJTQ",
    "outputId": "b9ea7785-e67c-4e35-8c17-7f7be1fd4ed4"
   },
   "outputs": [],
   "source": [
    "# This seeds the hyperparameter sampling.\n",
    "import numpy as np; np.random.seed(5)  \n",
    "hyperparameter_space = hyperparameter_space  # TODO: Fill me out.\n",
    "num_samples = 25\n",
    "\n",
    "####################################################################################################\n",
    "################ This is just a validation function for tutorial purposes only. ####################\n",
    "HP_KEYS = [\"lr\", \"lstm_1\", \"lstm_2\", \"lstm_3\"]\n",
    "assert all(key in hyperparameter_space for key in HP_KEYS), (\n",
    "    \"The hyperparameter space is not fully designated. It must include all of {}\".format(HP_KEYS))\n",
    "######################################################################################################\n",
    "\n",
    "ray.shutdown()  # Restart Ray defensively in case the ray connection is lost. \n",
    "ray.init(log_to_driver=False)\n",
    "# We clean out the logs before running for a clean visualization later.\n",
    "! rm -rf ~/ray_results/tune_iris\n",
    "from ray.tune.schedulers import AsyncHyperBandScheduler\n",
    "from ray.tune.suggest.hyperopt import HyperOptSearch\n",
    "import ray\n",
    "from ray import tune\n",
    "from hyperopt import hp\n",
    "\n",
    "space = {\n",
    "    'lr': hp.loguniform('lr', 0.001, 0.1),\n",
    "    'lstm_1': hp.uniform('lstm_1', 2, 512),\n",
    "    'lstm_2': hp.uniform('lstm_2', 2, 512),\n",
    "    'lstm_3': hp.uniform('lstm_3', 2, 512)\n",
    "}\n",
    "current_best_params = [{\n",
    "    'lr': 0.005,\n",
    "    'lstm_1': 311,\n",
    "    'lstm_2': 81,\n",
    "    'lstm_3': 16\n",
    "}]\n",
    "algo = HyperOptSearch(\n",
    "    space, metric=\"keras_info/mse\", mode=\"min\",\n",
    "    points_to_evaluate=current_best_params)\n",
    "\n",
    "#scheduler = AsyncHyperBandScheduler(metric=\"keras_info/mse\", mode=\"min\")\n",
    "\n",
    "analysis= tune.run(tune_iris,search_alg=algo,resources_per_trial = {\"cpu\": 4, \"gpu\": 1},num_samples = num_samples)\n",
    "\n",
    "assert len(analysis.trials) ==25, \"Did you set the correct number of samples?\""
   ]
  },
  {
   "cell_type": "code",
   "execution_count": null,
   "metadata": {
    "colab": {},
    "colab_type": "code",
    "id": "i3zWjJ2VnJTS"
   },
   "outputs": [],
   "source": [
    "# Obtain the directory where the best model is saved.\n",
    "print(\"You can use any of the following columns to get the best model: \\n{}.\".format(\n",
    "    [k for k in analysis.dataframe() if k.startswith(\"keras_info\")]))\n",
    "print(\"=\" * 10)\n",
    "logdir = analysis.get_best_logdir(\"keras_info/val_loss\", mode=\"min\")\n",
    "# We saved the model as `model.h5` in the logdir of the trial.\n",
    "from tensorflow.keras.models import load_model\n",
    "tuned_model = load_model(logdir + \"/model.h5\")"
   ]
  },
  {
   "cell_type": "code",
   "execution_count": null,
   "metadata": {
    "colab": {
     "base_uri": "https://localhost:8080/",
     "height": 234
    },
    "colab_type": "code",
    "executionInfo": {
     "elapsed": 575,
     "status": "error",
     "timestamp": 1594143974131,
     "user": {
      "displayName": "Sutirtha Chakraborty",
      "photoUrl": "",
      "userId": "01557635706590467789"
     },
     "user_tz": -60
    },
    "id": "45gktIrQr9lY",
    "outputId": "1ea71840-a4f9-4796-8da3-7bc6648c7e70"
   },
   "outputs": [],
   "source": [
    "# Open the file\n",
    "with open('/content/drive/My Drive/HyperOptSearchreport_tune.txt','w') as fh:\n",
    "    # Pass the file handle in as a lambda function to make it callable\n",
    "    tuned_model.summary(print_fn=lambda x: fh.write(x + '\\n'))\n",
    "\n",
    "print(tuned_model.summary())"
   ]
  },
  {
   "cell_type": "code",
   "execution_count": null,
   "metadata": {
    "colab": {},
    "colab_type": "code",
    "id": "kelKOf28nJTX"
   },
   "outputs": [],
   "source": [
    "predicted_value = original_model.predict(test_x)\n",
    "predicted_value.shape"
   ]
  },
  {
   "cell_type": "code",
   "execution_count": null,
   "metadata": {
    "colab": {},
    "colab_type": "code",
    "id": "uoa-qPmkqVDZ"
   },
   "outputs": [],
   "source": [
    "test_y.shape"
   ]
  },
  {
   "cell_type": "code",
   "execution_count": null,
   "metadata": {
    "colab": {},
    "colab_type": "code",
    "id": "hnc7TVAnnJTZ"
   },
   "outputs": [],
   "source": [
    "predicted_value_tuned = tuned_model.predict(test_x)\n",
    "predicted_value_tuned.shape"
   ]
  },
  {
   "cell_type": "code",
   "execution_count": null,
   "metadata": {
    "colab": {},
    "colab_type": "code",
    "id": "Gnhq3u25nJTe"
   },
   "outputs": [],
   "source": [
    "# print(\"Loss is {:0.4f}\".format(tuned_loss))\n",
    "# print(\"Tuned Error is {:0.4f}\".format(tuned_error))\n",
    "# #print(\"The original un-tuned model had an accuracy of {:0.4f}\".format(original_accuracy))\n",
    "# predicted_value = tuned_model.predict(test_x)"
   ]
  },
  {
   "cell_type": "code",
   "execution_count": null,
   "metadata": {
    "colab": {},
    "colab_type": "code",
    "id": "VvzAquVPnJTg"
   },
   "outputs": [],
   "source": [
    "predicted_value_tuned"
   ]
  },
  {
   "cell_type": "code",
   "execution_count": null,
   "metadata": {
    "colab": {},
    "colab_type": "code",
    "id": "MHMmNkoknJTi"
   },
   "outputs": [],
   "source": [
    "import matplotlib.pyplot as plt\n",
    "# plt.plot(test_y)\n",
    "plt.plot(predicted_value)\n",
    "plt.plot(predicted_value_tuned)\n",
    "\n",
    "plt.show()"
   ]
  },
  {
   "cell_type": "code",
   "execution_count": null,
   "metadata": {
    "colab": {},
    "colab_type": "code",
    "id": "LBqc-AbPpreY"
   },
   "outputs": [],
   "source": [
    "import matplotlib.pyplot as plt\n",
    "plt.plot(predicted_value)\n",
    "\n",
    "plt.show()"
   ]
  },
  {
   "cell_type": "code",
   "execution_count": null,
   "metadata": {
    "colab": {},
    "colab_type": "code",
    "id": "HcE1M2P56One"
   },
   "outputs": [],
   "source": [
    "import matplotlib.pyplot as plt\n",
    "\n",
    "plt.plot(predicted_value_tuned)\n",
    "plt.show()"
   ]
  },
  {
   "cell_type": "code",
   "execution_count": null,
   "metadata": {
    "colab": {},
    "colab_type": "code",
    "id": "uPT8IMhnnJTk"
   },
   "outputs": [],
   "source": [
    "import matplotlib.pyplot as plt\n",
    "plt.plot(test_y)\n",
    "plt.plot(predicted_value_tuned)\n",
    "plt.plot(predicted_value)\n",
    "plt.show()"
   ]
  },
  {
   "cell_type": "code",
   "execution_count": null,
   "metadata": {
    "colab": {},
    "colab_type": "code",
    "id": "9Y41ADfRnJTp"
   },
   "outputs": [],
   "source": [
    "%load_ext tensorboard\n",
    "%tensorboard --logdir ~/ray_results/tune_iris"
   ]
  },
  {
   "cell_type": "code",
   "execution_count": null,
   "metadata": {
    "colab": {},
    "colab_type": "code",
    "id": "abW7Fq1ahb3H"
   },
   "outputs": [],
   "source": []
  }
 ],
 "metadata": {
  "accelerator": "GPU",
  "colab": {
   "collapsed_sections": [],
   "machine_shape": "hm",
   "name": "HyperOptSearch.ipynb",
   "provenance": [
    {
     "file_id": "1MMjTB8GjmWOkLo_CnTHFyCyhyN_T91fJ",
     "timestamp": 1593942673801
    },
    {
     "file_id": "1ipRu6_Lu2zuNsOzzO7vYbZ8GvSfUxSjI",
     "timestamp": 1593942665213
    },
    {
     "file_id": "1eqKcxgdvIIqhA4gfqOb8rK9RwYUfQAw0",
     "timestamp": 1593942564191
    },
    {
     "file_id": "1baW0S6ROH_lp0-1u4yYQyklqDyUu7OTy",
     "timestamp": 1593942551739
    }
   ]
  },
  "kernelspec": {
   "display_name": "Python 3",
   "language": "python",
   "name": "python3"
  },
  "language_info": {
   "codemirror_mode": {
    "name": "ipython",
    "version": 3
   },
   "file_extension": ".py",
   "mimetype": "text/x-python",
   "name": "python",
   "nbconvert_exporter": "python",
   "pygments_lexer": "ipython3",
   "version": "3.6.10"
  }
 },
 "nbformat": 4,
 "nbformat_minor": 1
}
