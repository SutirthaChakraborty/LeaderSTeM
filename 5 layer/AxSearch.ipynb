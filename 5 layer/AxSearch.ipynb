{
 "cells": [
  {
   "cell_type": "code",
   "execution_count": null,
   "metadata": {
    "colab": {
     "base_uri": "https://localhost:8080/",
     "height": 124
    },
    "colab_type": "code",
    "executionInfo": {
     "elapsed": 35226,
     "status": "ok",
     "timestamp": 1594194320403,
     "user": {
      "displayName": "Sutirtha Chakraborty",
      "photoUrl": "",
      "userId": "01557635706590467789"
     },
     "user_tz": -60
    },
    "id": "aty8eqFppk0G",
    "outputId": "f478a833-24cb-41d7-f470-53832643a11f"
   },
   "outputs": [],
   "source": [
    "from google.colab import drive\n",
    "drive.mount('/content//drive')"
   ]
  },
  {
   "cell_type": "code",
   "execution_count": null,
   "metadata": {
    "colab": {
     "base_uri": "https://localhost:8080/",
     "height": 84
    },
    "colab_type": "code",
    "id": "bp9fpo1Ikfwn",
    "outputId": "9528dba8-ba29-42bb-ffca-987672e174c0"
   },
   "outputs": [],
   "source": [
    "# If you are running on Google Colab, uncomment below to install the necessary dependencies \n",
    "# before beginning the exercise.\n",
    "\n",
    "print(\"Setting up colab environment\")\n",
    "!pip uninstall -y -q pyarrow\n",
    "!pip install -q https://s3-us-west-2.amazonaws.com/ray-wheels/latest/ray-0.8.0.dev5-cp36-cp36m-manylinux1_x86_64.whl\n",
    "!pip install -q ray[debug]\n",
    "\n",
    "# A hack to force the runtime to restart, needed to include the above dependencies.\n",
    "print(\"Done installing! Restarting via forced crash (this is not an issue).\")\n",
    "import os\n",
    "os._exit(0)"
   ]
  },
  {
   "cell_type": "code",
   "execution_count": null,
   "metadata": {
    "colab": {},
    "colab_type": "code",
    "executionInfo": {
     "elapsed": 502,
     "status": "ok",
     "timestamp": 1594194321757,
     "user": {
      "displayName": "Sutirtha Chakraborty",
      "photoUrl": "",
      "userId": "01557635706590467789"
     },
     "user_tz": -60
    },
    "id": "YHb-I_Vpkiu9"
   },
   "outputs": [],
   "source": [
    "# If you are running on Google Colab, please install TensorFlow 2.0 by uncommenting below..\n",
    "\n",
    "try:\n",
    "  # %tensorflow_version only exists in Colab.\n",
    "  %tensorflow_version 2.x\n",
    "except Exception:\n",
    "  pass"
   ]
  },
  {
   "cell_type": "code",
   "execution_count": null,
   "metadata": {
    "colab": {
     "base_uri": "https://localhost:8080/",
     "height": 52
    },
    "colab_type": "code",
    "executionInfo": {
     "elapsed": 3299,
     "status": "ok",
     "timestamp": 1594194324973,
     "user": {
      "displayName": "Sutirtha Chakraborty",
      "photoUrl": "",
      "userId": "01557635706590467789"
     },
     "user_tz": -60
    },
    "id": "aoxLAjPXnbGM",
    "outputId": "5ba1b1e5-1780-494b-9cd4-6661801d7cb8"
   },
   "outputs": [],
   "source": [
    "!pip3 install tune xlrd pandas  tensorboardX"
   ]
  },
  {
   "cell_type": "code",
   "execution_count": null,
   "metadata": {
    "colab": {
     "base_uri": "https://localhost:8080/",
     "height": 156
    },
    "colab_type": "code",
    "executionInfo": {
     "elapsed": 21463,
     "status": "ok",
     "timestamp": 1594194343906,
     "user": {
      "displayName": "Sutirtha Chakraborty",
      "photoUrl": "",
      "userId": "01557635706590467789"
     },
     "user_tz": -60
    },
    "id": "rgMRfSCAeesr",
    "outputId": "1901fb00-7254-48d9-f2da-73e1ee5c8d02"
   },
   "outputs": [],
   "source": [
    "print(\"Setting up colab environment\")\n",
    "!pip3 uninstall -y -q pyarrow\n",
    "!pip3 install -q ray[debug]\n"
   ]
  },
  {
   "cell_type": "code",
   "execution_count": null,
   "metadata": {
    "colab": {},
    "colab_type": "code",
    "executionInfo": {
     "elapsed": 21003,
     "status": "ok",
     "timestamp": 1594194343908,
     "user": {
      "displayName": "Sutirtha Chakraborty",
      "photoUrl": "",
      "userId": "01557635706590467789"
     },
     "user_tz": -60
    },
    "id": "KU1Eb-fkhb1l"
   },
   "outputs": [],
   "source": [
    "# !pip3 install tensorflow keras scikit-learn pandas"
   ]
  },
  {
   "cell_type": "code",
   "execution_count": null,
   "metadata": {
    "colab": {},
    "colab_type": "code",
    "executionInfo": {
     "elapsed": 22550,
     "status": "ok",
     "timestamp": 1594194345963,
     "user": {
      "displayName": "Sutirtha Chakraborty",
      "photoUrl": "",
      "userId": "01557635706590467789"
     },
     "user_tz": -60
    },
    "id": "ApMfN5xMnJSU"
   },
   "outputs": [],
   "source": [
    "import numpy as np\n",
    "np.random.seed(0)\n",
    "\n",
    "import tensorflow as tf\n",
    "try:\n",
    "    tf.get_logger().setLevel('INFO')\n",
    "except Exception as exc:\n",
    "    print(exc)\n",
    "import warnings\n",
    "warnings.simplefilter(\"ignore\")\n",
    "\n",
    "from tensorflow.keras.models import Sequential\n",
    "from tensorflow.keras.layers import Dense, LSTM,Dropout\n",
    "\n",
    "from tensorflow.keras.optimizers import SGD, Adam\n",
    "from tensorflow.keras.callbacks import ModelCheckpoint\n",
    "\n",
    "from sklearn.model_selection import train_test_split\n",
    "\n",
    "import ray\n",
    "from ray import tune\n",
    "from ray.tune.examples.utils import get_iris_data\n",
    "\n",
    "import inspect\n",
    "import pandas as pd\n",
    "import matplotlib.pyplot as plt\n",
    "plt.style.use('ggplot')\n",
    "%matplotlib inline"
   ]
  },
  {
   "cell_type": "code",
   "execution_count": null,
   "metadata": {
    "colab": {
     "base_uri": "https://localhost:8080/",
     "height": 676
    },
    "colab_type": "code",
    "executionInfo": {
     "elapsed": 26187,
     "status": "ok",
     "timestamp": 1594194350075,
     "user": {
      "displayName": "Sutirtha Chakraborty",
      "photoUrl": "",
      "userId": "01557635706590467789"
     },
     "user_tz": -60
    },
    "id": "JE3O0Kbthb1s",
    "outputId": "26708243-3d09-49e0-8c3b-06ab6f1d627d"
   },
   "outputs": [],
   "source": [
    "!pip3 install ray[tune] ray[rllib] matplotlib"
   ]
  },
  {
   "cell_type": "code",
   "execution_count": null,
   "metadata": {
    "colab": {},
    "colab_type": "code",
    "executionInfo": {
     "elapsed": 390061,
     "status": "ok",
     "timestamp": 1594194714462,
     "user": {
      "displayName": "Sutirtha Chakraborty",
      "photoUrl": "",
      "userId": "01557635706590467789"
     },
     "user_tz": -60
    },
    "id": "4HRWGKtZpu3i"
   },
   "outputs": [],
   "source": [
    "import os\n",
    "import pandas as pd\n",
    "path = \"/content/drive/My Drive/excels/\"\n",
    "files = os.listdir(path)\n",
    "\n",
    "files_xls = [f for f in files if f[-3:] == 'xls']\n",
    "df = pd.DataFrame()\n",
    "for f in files_xls:\n",
    "    fp=path+f\n",
    "    data = pd.read_excel(fp, 'Sheet')\n",
    "    data.columns = ['Time', 'output','outputPitch','outputVolm','Player1BPM','Player1Pitch','Player1Volm', 'Player2BPM','Player2Pitch','Player2Volm', 'Player3BPM','Player3Pitch','Player3Volm', 'Player4BPM','Player4Pitch','Player4Volm']\n",
    "    df = df.append(data)   \n",
    "df.columns = ['Time', 'output','outputPitch','outputVolm','Player1BPM','Player1Pitch','Player1Volm', 'Player2BPM','Player2Pitch','Player2Volm', 'Player3BPM','Player3Pitch','Player3Volm', 'Player4BPM','Player4Pitch','Player4Volm']\n",
    "y =  df[['output']]\n",
    "X = df[['Time','Player1BPM','Player1Pitch','Player1Volm', 'Player2BPM','Player2Pitch','Player2Volm', 'Player3BPM','Player3Pitch','Player3Volm', 'Player4BPM','Player4Pitch','Player4Volm']]"
   ]
  },
  {
   "cell_type": "code",
   "execution_count": null,
   "metadata": {
    "colab": {},
    "colab_type": "code",
    "executionInfo": {
     "elapsed": 389577,
     "status": "ok",
     "timestamp": 1594194714465,
     "user": {
      "displayName": "Sutirtha Chakraborty",
      "photoUrl": "",
      "userId": "01557635706590467789"
     },
     "user_tz": -60
    },
    "id": "qjYWgmARnJSY"
   },
   "outputs": [],
   "source": [
    "# df = pd.read_excel('/content/drive/My Drive/excels/A Classic Education - NightOwl.stem.xls', 'Sheet')\n",
    "# df.columns = ['Time', 'output','outputPitch','outputVolm','Player1BPM','Player1Pitch','Player1Volm', 'Player2BPM','Player2Pitch','Player2Volm', 'Player3BPM','Player3Pitch','Player3Volm', 'Player4BPM','Player4Pitch','Player4Volm']\n",
    "# y =  df[['output']]\n",
    "# X = df[['Time','Player1BPM','Player1Pitch','Player1Volm', 'Player2BPM','Player2Pitch','Player2Volm', 'Player3BPM','Player3Pitch','Player3Volm', 'Player4BPM','Player4Pitch','Player4Volm']]"
   ]
  },
  {
   "cell_type": "code",
   "execution_count": null,
   "metadata": {
    "colab": {
     "base_uri": "https://localhost:8080/",
     "height": 202
    },
    "colab_type": "code",
    "executionInfo": {
     "elapsed": 388704,
     "status": "ok",
     "timestamp": 1594194714466,
     "user": {
      "displayName": "Sutirtha Chakraborty",
      "photoUrl": "",
      "userId": "01557635706590467789"
     },
     "user_tz": -60
    },
    "id": "vNj36EimnJSd",
    "outputId": "b0372009-bf38-454e-9f1d-f7d719b995c9"
   },
   "outputs": [],
   "source": [
    "X.head()"
   ]
  },
  {
   "cell_type": "code",
   "execution_count": null,
   "metadata": {
    "colab": {
     "base_uri": "https://localhost:8080/",
     "height": 202
    },
    "colab_type": "code",
    "executionInfo": {
     "elapsed": 388250,
     "status": "ok",
     "timestamp": 1594194714468,
     "user": {
      "displayName": "Sutirtha Chakraborty",
      "photoUrl": "",
      "userId": "01557635706590467789"
     },
     "user_tz": -60
    },
    "id": "ubR9W1htnJSh",
    "outputId": "217b4567-2d1c-41fb-a784-681c8b5de34e"
   },
   "outputs": [],
   "source": [
    "y.head()"
   ]
  },
  {
   "cell_type": "code",
   "execution_count": null,
   "metadata": {
    "colab": {},
    "colab_type": "code",
    "executionInfo": {
     "elapsed": 387957,
     "status": "ok",
     "timestamp": 1594194714701,
     "user": {
      "displayName": "Sutirtha Chakraborty",
      "photoUrl": "",
      "userId": "01557635706590467789"
     },
     "user_tz": -60
    },
    "id": "LaJHpUXWnJSv"
   },
   "outputs": [],
   "source": [
    "train_x, test_x, train_y, test_y = train_test_split(X, y, test_size=0.1,shuffle=False,random_state=42)"
   ]
  },
  {
   "cell_type": "code",
   "execution_count": null,
   "metadata": {
    "colab": {},
    "colab_type": "code",
    "executionInfo": {
     "elapsed": 387673,
     "status": "ok",
     "timestamp": 1594194715284,
     "user": {
      "displayName": "Sutirtha Chakraborty",
      "photoUrl": "",
      "userId": "01557635706590467789"
     },
     "user_tz": -60
    },
    "id": "b1J3d_1inJSk"
   },
   "outputs": [],
   "source": [
    "from sklearn.preprocessing import MinMaxScaler\n",
    "scaler_X = MinMaxScaler()\n",
    "X_train_scaled = scaler_X.fit_transform(train_x)\n",
    "X_test_scaled = scaler_X.transform(test_x)"
   ]
  },
  {
   "cell_type": "code",
   "execution_count": null,
   "metadata": {
    "colab": {
     "base_uri": "https://localhost:8080/",
     "height": 52
    },
    "colab_type": "code",
    "executionInfo": {
     "elapsed": 387078,
     "status": "ok",
     "timestamp": 1594194715286,
     "user": {
      "displayName": "Sutirtha Chakraborty",
      "photoUrl": "",
      "userId": "01557635706590467789"
     },
     "user_tz": -60
    },
    "id": "wbdX_iVMWuQ4",
    "outputId": "7b8d56d6-86bc-44d4-e322-7fe19ee283d8"
   },
   "outputs": [],
   "source": [
    "train_x = np.array(X_train_scaled) #X_train_scaled\n",
    "train_x = train_x[:, :, None]\n",
    "print(train_x.shape)\n",
    "test_x = np.array(X_test_scaled)#X_test_scaled\n",
    "test_x = test_x[:, :, None]\n",
    "print(test_x.shape)"
   ]
  },
  {
   "cell_type": "code",
   "execution_count": null,
   "metadata": {
    "colab": {},
    "colab_type": "code",
    "executionInfo": {
     "elapsed": 386446,
     "status": "ok",
     "timestamp": 1594194715287,
     "user": {
      "displayName": "Sutirtha Chakraborty",
      "photoUrl": "",
      "userId": "01557635706590467789"
     },
     "user_tz": -60
    },
    "id": "wIUdTSSjTuGo"
   },
   "outputs": [],
   "source": [
    "###############------------- LSTM ONE WITH 3 LAYERS------------############\n",
    "def create_model(learning_rate, lstm_1, lstm_2 ,lstm_3):\n",
    "    model = Sequential()\n",
    "    model.add(LSTM(int(lstm_1), return_sequences=True, input_shape=(13, 1)))\n",
    "    model.add(Dropout(0.3))\n",
    "    model.add(LSTM(int(lstm_2), return_sequences=True))\n",
    "    model.add(Dropout(0.3))\n",
    "    model.add(LSTM(int(lstm_3)))\n",
    "    model.add(Dropout(0.0))\n",
    "    model.add(Dense(units=1))\n",
    "    optimizer = SGD(lr=learning_rate)\n",
    "    model.compile(optimizer, loss='mae', metrics=['mse'])\n",
    "    return model"
   ]
  },
  {
   "cell_type": "code",
   "execution_count": null,
   "metadata": {
    "colab": {},
    "colab_type": "code",
    "executionInfo": {
     "elapsed": 385195,
     "status": "ok",
     "timestamp": 1594194715290,
     "user": {
      "displayName": "Sutirtha Chakraborty",
      "photoUrl": "",
      "userId": "01557635706590467789"
     },
     "user_tz": -60
    },
    "id": "gBL0LyZPnJS0"
   },
   "outputs": [],
   "source": [
    "# model = create_model(learning_rate=0.1, dense_1 = 2, dense_2 = 2,dense_3=2)"
   ]
  },
  {
   "cell_type": "code",
   "execution_count": null,
   "metadata": {
    "colab": {},
    "colab_type": "code",
    "executionInfo": {
     "elapsed": 393359,
     "status": "ok",
     "timestamp": 1594194724377,
     "user": {
      "displayName": "Sutirtha Chakraborty",
      "photoUrl": "",
      "userId": "01557635706590467789"
     },
     "user_tz": -60
    },
    "id": "JphdsLdoTcav"
   },
   "outputs": [],
   "source": [
    "model = create_model(learning_rate=0.1, lstm_1 = 50, lstm_2 = 50,lstm_3=50)"
   ]
  },
  {
   "cell_type": "code",
   "execution_count": null,
   "metadata": {
    "colab": {
     "base_uri": "https://localhost:8080/",
     "height": 398
    },
    "colab_type": "code",
    "executionInfo": {
     "elapsed": 392159,
     "status": "ok",
     "timestamp": 1594194724378,
     "user": {
      "displayName": "Sutirtha Chakraborty",
      "photoUrl": "",
      "userId": "01557635706590467789"
     },
     "user_tz": -60
    },
    "id": "5xYKcbyznJS3",
    "outputId": "ea7b4c66-4462-45d6-e37a-2274797f45e6"
   },
   "outputs": [],
   "source": [
    "model.summary()"
   ]
  },
  {
   "cell_type": "code",
   "execution_count": null,
   "metadata": {
    "colab": {},
    "colab_type": "code",
    "executionInfo": {
     "elapsed": 390801,
     "status": "ok",
     "timestamp": 1594194724379,
     "user": {
      "displayName": "Sutirtha Chakraborty",
      "photoUrl": "",
      "userId": "01557635706590467789"
     },
     "user_tz": -60
    },
    "id": "RvJ_wAUdnJS6"
   },
   "outputs": [],
   "source": [
    "#test_model = model.fit(train_x, train_y, validation_data=(test_x, test_y), verbose=1, batch_size = 512, epochs = 20)"
   ]
  },
  {
   "cell_type": "code",
   "execution_count": null,
   "metadata": {
    "colab": {},
    "colab_type": "code",
    "executionInfo": {
     "elapsed": 389197,
     "status": "ok",
     "timestamp": 1594194724380,
     "user": {
      "displayName": "Sutirtha Chakraborty",
      "photoUrl": "",
      "userId": "01557635706590467789"
     },
     "user_tz": -60
    },
    "id": "j59HXjLvnJS8"
   },
   "outputs": [],
   "source": [
    "def train_on_iris():\n",
    "    model = create_model(learning_rate=0.1, lstm_1 = 512, lstm_2 = 512, lstm_3 = 512)\n",
    "    # This saves the top model. `accuracy` is only available in TF2.0.\n",
    "    checkpoint_callback = ModelCheckpoint(\"model.h5\", monitor='mse', save_best_only=True, save_freq=2)\n",
    "\n",
    "    # Train the model\n",
    "    model.fit(\n",
    "        train_x, train_y, \n",
    "        validation_data=(test_x, test_y),\n",
    "        verbose=1, batch_size=32, epochs=20, callbacks=[checkpoint_callback])\n",
    "    return model"
   ]
  },
  {
   "cell_type": "code",
   "execution_count": null,
   "metadata": {
    "colab": {},
    "colab_type": "code",
    "executionInfo": {
     "elapsed": 388270,
     "status": "ok",
     "timestamp": 1594194724381,
     "user": {
      "displayName": "Sutirtha Chakraborty",
      "photoUrl": "",
      "userId": "01557635706590467789"
     },
     "user_tz": -60
    },
    "id": "s6nvr-VBnJS-"
   },
   "outputs": [],
   "source": [
    "#original_model = train_on_iris()"
   ]
  },
  {
   "cell_type": "code",
   "execution_count": null,
   "metadata": {
    "colab": {
     "base_uri": "https://localhost:8080/",
     "height": 238
    },
    "colab_type": "code",
    "executionInfo": {
     "elapsed": 437,
     "status": "error",
     "timestamp": 1594058309361,
     "user": {
      "displayName": "Sutirtha Chakraborty",
      "photoUrl": "",
      "userId": "01557635706590467789"
     },
     "user_tz": -60
    },
    "id": "_cHBFfWBimO_",
    "outputId": "a6542665-9b68-4c79-80e0-c69a8933be62"
   },
   "outputs": [],
   "source": [
    "# Open the file\n",
    "with open('/content/drive/My Drive/AXreport_orig.txt','w') as fh:\n",
    "    # Pass the file handle in as a lambda function to make it callable\n",
    "    original_model.summary(print_fn=lambda x: fh.write(x + '\\n'))\n",
    "\n",
    "print(original_model.summary())"
   ]
  },
  {
   "cell_type": "code",
   "execution_count": null,
   "metadata": {
    "colab": {},
    "colab_type": "code",
    "executionInfo": {
     "elapsed": 624,
     "status": "ok",
     "timestamp": 1594194725023,
     "user": {
      "displayName": "Sutirtha Chakraborty",
      "photoUrl": "",
      "userId": "01557635706590467789"
     },
     "user_tz": -60
    },
    "id": "HDNFmEP1nJTB"
   },
   "outputs": [],
   "source": [
    "import tensorflow.keras as keras\n",
    "from ray.tune import track"
   ]
  },
  {
   "cell_type": "code",
   "execution_count": null,
   "metadata": {
    "colab": {},
    "colab_type": "code",
    "executionInfo": {
     "elapsed": 617,
     "status": "ok",
     "timestamp": 1594194725025,
     "user": {
      "displayName": "Sutirtha Chakraborty",
      "photoUrl": "",
      "userId": "01557635706590467789"
     },
     "user_tz": -60
    },
    "id": "2jqJzMlGBcsg"
   },
   "outputs": [],
   "source": [
    "    # config = {\n",
    "    #     \"num_samples\": 10 ,\n",
    "    #     \"config\": {\n",
    "    #         \"iterations\": 100,\n",
    "    #     },\n",
    "    #     \"stop\": {\n",
    "    #         \"timesteps_total\": 100\n",
    "    #     },\n",
    "    # }"
   ]
  },
  {
   "cell_type": "code",
   "execution_count": null,
   "metadata": {
    "colab": {},
    "colab_type": "code",
    "executionInfo": {
     "elapsed": 615,
     "status": "ok",
     "timestamp": 1594194725026,
     "user": {
      "displayName": "Sutirtha Chakraborty",
      "photoUrl": "",
      "userId": "01557635706590467789"
     },
     "user_tz": -60
    },
    "id": "_g6k5UzqnJTD"
   },
   "outputs": [],
   "source": [
    "class TuneReporterCallback(keras.callbacks.Callback):\n",
    "    def __init__(self, logs={}):\n",
    "        self.iteration = 0\n",
    "        super(TuneReporterCallback, self).__init__()\n",
    "\n",
    "    def on_epoch_end(self, batch, logs={}):\n",
    "        self.iteration += 1\n",
    "        track.log(keras_info=logs, mean_accuracy=logs.get(\"mse\"), mean_loss=logs.get(\"mae\"))"
   ]
  },
  {
   "cell_type": "code",
   "execution_count": null,
   "metadata": {
    "colab": {},
    "colab_type": "code",
    "executionInfo": {
     "elapsed": 611,
     "status": "ok",
     "timestamp": 1594194725026,
     "user": {
      "displayName": "Sutirtha Chakraborty",
      "photoUrl": "",
      "userId": "01557635706590467789"
     },
     "user_tz": -60
    },
    "id": "2wXvtef7kqK3"
   },
   "outputs": [],
   "source": [
    "# class TuneReporterCallback(keras.callbacks.Callback):\n",
    "#     \"\"\"Tune Callback for Keras.\"\"\"\n",
    "\n",
    "#     def __init__(self, reporter=None, freq=\"batch\", metrics=None, logs={}):\n",
    "#         \"\"\"Initializer.\n",
    "#         Args:\n",
    "#             reporter (StatusReporter|tune.track.log|None): Tune object for\n",
    "#                 returning results.\n",
    "#             freq (str): Sets the frequency of reporting intermediate results.\n",
    "#                 One of [\"batch\", \"epoch\"].\n",
    "#         \"\"\"\n",
    "#         self.reporter = reporter or track.log\n",
    "#         self.iteration = 0\n",
    "#         self.metrics = metrics or None\n",
    "#         if freq not in [\"batch\", \"epoch\"]:\n",
    "#             raise ValueError(\"{} not supported as a frequency.\".format(freq))\n",
    "#         self.freq = freq\n",
    "#         super(TuneReporterCallback, self).__init__()\n",
    "\n",
    "#     def on_batch_end(self, batch, logs={}):\n",
    "#         if not self.freq == \"batch\":\n",
    "#             return\n",
    "#         self.iteration += 1\n",
    "#         for metric in list(logs):\n",
    "#             if \"loss\" in metric and \"neg_\" not in metric:\n",
    "#                 logs[\"neg_\" + metric] = -logs[metric]\n",
    "#         self.reporter(keras_info=logs, mean_accuracy=logs.get(\"mse\"))\n",
    "\n",
    "#     def on_epoch_end(self, batch, logs={}):\n",
    "#         if not self.freq == \"epoch\":\n",
    "#             return\n",
    "#         self.iteration += 1\n",
    "#         for metric in list(logs):\n",
    "#             if \"loss\" in metric and \"neg_\" not in metric:\n",
    "#                 logs[\"neg_\" + metric] = -logs[metric]\n",
    "#         self.reporter(keras_info=logs, mean_accuracy=logs.get(\"mse\"))"
   ]
  },
  {
   "cell_type": "code",
   "execution_count": null,
   "metadata": {
    "colab": {},
    "colab_type": "code",
    "executionInfo": {
     "elapsed": 607,
     "status": "ok",
     "timestamp": 1594194725027,
     "user": {
      "displayName": "Sutirtha Chakraborty",
      "photoUrl": "",
      "userId": "01557635706590467789"
     },
     "user_tz": -60
    },
    "id": "z9_z4Kl9V_-u"
   },
   "outputs": [],
   "source": [
    "def tune_iris(config):  # TODO: Change me.\n",
    "    model = create_model(learning_rate=config[\"lr\"], lstm_1=config[\"lstm_1\"], lstm_2=config[\"lstm_2\"],lstm_3=config[\"lstm_3\"])\n",
    "    checkpoint_callback = ModelCheckpoint(\n",
    "        \"model.h5\", monitor='loss', save_best_only=True, save_freq=2)\n",
    "\n",
    "    # Enable Tune to make intermediate decisions by using a Tune Callback hook. This is Keras specific.\n",
    "    callbacks = [checkpoint_callback, TuneReporterCallback()]\n",
    "    \n",
    "    # Train the model\n",
    "    model.fit(\n",
    "        train_x, train_y, \n",
    "        validation_data=(test_x, test_y),\n",
    "        verbose=1, \n",
    "        batch_size=512,\n",
    "        epochs=10, \n",
    "        callbacks=callbacks)"
   ]
  },
  {
   "cell_type": "code",
   "execution_count": null,
   "metadata": {
    "colab": {},
    "colab_type": "code",
    "executionInfo": {
     "elapsed": 606,
     "status": "ok",
     "timestamp": 1594194725029,
     "user": {
      "displayName": "Sutirtha Chakraborty",
      "photoUrl": "",
      "userId": "01557635706590467789"
     },
     "user_tz": -60
    },
    "id": "dpFv-Q8LnJTJ"
   },
   "outputs": [],
   "source": [
    "assert len(inspect.getargspec(tune_iris).args) == 1, \"The `tune_iris` function needs to take in the arg `config`.\""
   ]
  },
  {
   "cell_type": "code",
   "execution_count": null,
   "metadata": {
    "colab": {
     "base_uri": "https://localhost:8080/",
     "height": 380
    },
    "colab_type": "code",
    "executionInfo": {
     "elapsed": 781,
     "status": "error",
     "timestamp": 1594194725257,
     "user": {
      "displayName": "Sutirtha Chakraborty",
      "photoUrl": "",
      "userId": "01557635706590467789"
     },
     "user_tz": -60
    },
    "id": "ejdTIlRUnJTM",
    "outputId": "c20c11c0-c37c-4915-ca87-8a8b7e43cd31"
   },
   "outputs": [],
   "source": [
    "print(\"Test-running to make sure this function will run correctly.\")\n",
    "tune.track.init()  # For testing purposes only.\n",
    "tune_iris({\"lr\": 0.1, \"lstm_1\": 64, \"lstm_2\": 32, \"lstm_3\": 16})\n",
    "print(\"Success!\")"
   ]
  },
  {
   "cell_type": "code",
   "execution_count": null,
   "metadata": {
    "colab": {},
    "colab_type": "code",
    "executionInfo": {
     "elapsed": 524,
     "status": "ok",
     "timestamp": 1594195131877,
     "user": {
      "displayName": "Sutirtha Chakraborty",
      "photoUrl": "",
      "userId": "01557635706590467789"
     },
     "user_tz": -60
    },
    "id": "a-_fsOVynJTO"
   },
   "outputs": [],
   "source": [
    "hyperparameter_space = {\n",
    "    \"lr\": tune.loguniform(0.001, 0.1),  \n",
    "    \"lstm_1\": tune.uniform(2, 512),\n",
    "    \"lstm_2\": tune.uniform(2, 512),\n",
    "    \"lstm_3\": tune.uniform(2, 512),\n",
    "}"
   ]
  },
  {
   "cell_type": "code",
   "execution_count": null,
   "metadata": {
    "colab": {
     "base_uri": "https://localhost:8080/",
     "height": 554
    },
    "colab_type": "code",
    "executionInfo": {
     "elapsed": 12571,
     "status": "ok",
     "timestamp": 1594195144925,
     "user": {
      "displayName": "Sutirtha Chakraborty",
      "photoUrl": "",
      "userId": "01557635706590467789"
     },
     "user_tz": -60
    },
    "id": "0L4ed3Em_UDd",
    "outputId": "259c27f7-36d8-44d4-d953-d121ed7ad521"
   },
   "outputs": [],
   "source": [
    "pip install ax-platform sqlalchemy\n"
   ]
  },
  {
   "cell_type": "code",
   "execution_count": null,
   "metadata": {
    "colab": {
     "base_uri": "https://localhost:8080/",
     "height": 242
    },
    "colab_type": "code",
    "executionInfo": {
     "elapsed": 16452,
     "status": "ok",
     "timestamp": 1594195149673,
     "user": {
      "displayName": "Sutirtha Chakraborty",
      "photoUrl": "",
      "userId": "01557635706590467789"
     },
     "user_tz": -60
    },
    "id": "h0vowXpbTxB6",
    "outputId": "5824b284-e979-4733-aa35-77f561d7ac23"
   },
   "outputs": [],
   "source": [
    "!pip install bayesian-optimization"
   ]
  },
  {
   "cell_type": "code",
   "execution_count": null,
   "metadata": {
    "colab": {
     "base_uri": "https://localhost:8080/",
     "height": 1000,
     "output_embedded_package_id": "1ZgjlUiRwSwUzOVZEZVCeJhi1xw-Cfrbl"
    },
    "colab_type": "code",
    "id": "kEE6ckuFnJTQ",
    "outputId": "32d3d932-b17f-418c-aa33-3aba06f9ac69"
   },
   "outputs": [],
   "source": [
    "# This seeds the hyperparameter sampling.\n",
    "import numpy as np; np.random.seed(5)  \n",
    "hyperparameter_space = hyperparameter_space  # TODO: Fill me out.\n",
    "num_samples = 25\n",
    "\n",
    "####################################################################################################\n",
    "################ This is just a validation function for tutorial purposes only. ####################\n",
    "HP_KEYS = [\"lr\", \"lstm_1\", \"lstm_2\", \"lstm_3\"]\n",
    "assert all(key in hyperparameter_space for key in HP_KEYS), (\n",
    "    \"The hyperparameter space is not fully designated. It must include all of {}\".format(HP_KEYS))\n",
    "######################################################################################################\n",
    "\n",
    "ray.shutdown()  # Restart Ray defensively in case the ray connection is lost. \n",
    "ray.init(log_to_driver=False)\n",
    "# We clean out the logs before running for a clean visualization later.\n",
    "! rm -rf ~/ray_results/tune_iris\n",
    "\n",
    "\n",
    "\n",
    "from ax.service.ax_client import AxClient\n",
    "from ray import tune\n",
    "from ray.tune.suggest.ax import AxSearch\n",
    "from ray.tune.schedulers import AsyncHyperBandScheduler\n",
    "\n",
    "\n",
    "parameters = [\n",
    "    {\"name\": \"lr\", \"type\": \"range\", \"bounds\": [0.001, 0.1]},\n",
    "    {\"name\": \"lstm_1\", \"type\": \"range\", \"bounds\": [2, 512]},\n",
    "    {\"name\": \"lstm_2\", \"type\": \"range\", \"bounds\": [2, 512]},\n",
    "    {\"name\": \"lstm_3\", \"type\": \"range\", \"bounds\": [2, 512]},\n",
    "]\n",
    "\n",
    "client = AxClient(enforce_sequential_optimization=False)\n",
    "client.create_experiment(parameters=parameters,objective_name=\"keras_info/mse\")\n",
    "algo = AxSearch(client)\n",
    "analysis= tune.run(tune_iris,search_alg=algo,resources_per_trial = {\"cpu\": 4, \"gpu\": 1},num_samples=num_samples)\n",
    "\n",
    "\n",
    "assert len(analysis.trials) ==25, \"Did you set the correct number of samples?\""
   ]
  },
  {
   "cell_type": "code",
   "execution_count": null,
   "metadata": {
    "colab": {},
    "colab_type": "code",
    "id": "i3zWjJ2VnJTS"
   },
   "outputs": [],
   "source": [
    "# Obtain the directory where the best model is saved.\n",
    "print(\"You can use any of the following columns to get the best model: \\n{}.\".format(\n",
    "    [k for k in analysis.dataframe() if k.startswith(\"keras_info\")]))\n",
    "print(\"=\" * 10)\n",
    "logdir = analysis.get_best_logdir(\"keras_info/mse\", mode=\"min\")\n",
    "# We saved the model as `model.h5` in the logdir of the trial.\n",
    "from tensorflow.keras.models import load_model\n",
    "tuned_model = load_model(logdir + \"/model.h5\")"
   ]
  },
  {
   "cell_type": "code",
   "execution_count": null,
   "metadata": {
    "colab": {},
    "colab_type": "code",
    "id": "JvhEi1l-attD"
   },
   "outputs": [],
   "source": [
    "# Open the file\n",
    "with open('/content/drive/My Drive/AXreport_tune.txt','w') as fh:\n",
    "    # Pass the file handle in as a lambda function to make it callable\n",
    "    tuned_model.summary(print_fn=lambda x: fh.write(x + '\\n'))\n",
    "\n",
    "print(tuned_model.summary())"
   ]
  },
  {
   "cell_type": "code",
   "execution_count": null,
   "metadata": {
    "colab": {},
    "colab_type": "code",
    "id": "kelKOf28nJTX"
   },
   "outputs": [],
   "source": [
    "predicted_value = original_model.predict(test_x)\n",
    "predicted_value"
   ]
  },
  {
   "cell_type": "code",
   "execution_count": null,
   "metadata": {
    "colab": {},
    "colab_type": "code",
    "id": "hnc7TVAnnJTZ"
   },
   "outputs": [],
   "source": [
    "\n",
    "predicted_value_tuned = tuned_model.predict(test_x)\n",
    "predicted_value_tuned"
   ]
  },
  {
   "cell_type": "code",
   "execution_count": null,
   "metadata": {
    "colab": {},
    "colab_type": "code",
    "id": "VvzAquVPnJTg"
   },
   "outputs": [],
   "source": [
    "test_y_display=test_y.to_numpy()\n",
    "print(test_y_display.shape)\n",
    "print(predicted_value.shape)\n",
    "print(predicted_value_tuned.shape)\n",
    "\n",
    " "
   ]
  },
  {
   "cell_type": "code",
   "execution_count": null,
   "metadata": {
    "colab": {},
    "colab_type": "code",
    "id": "MHMmNkoknJTi"
   },
   "outputs": [],
   "source": [
    "import matplotlib.pyplot as plt\n",
    "plt.plot(test_y_display)\n",
    "plt.plot(predicted_value)\n",
    "plt.plot(predicted_value_tuned)\n",
    "plt.show()"
   ]
  },
  {
   "cell_type": "code",
   "execution_count": null,
   "metadata": {
    "colab": {},
    "colab_type": "code",
    "id": "9Y41ADfRnJTp"
   },
   "outputs": [],
   "source": [
    "%load_ext tensorboard\n",
    "%tensorboard --logdir ~/ray_results/tune_iris"
   ]
  },
  {
   "cell_type": "code",
   "execution_count": null,
   "metadata": {
    "colab": {},
    "colab_type": "code",
    "id": "abW7Fq1ahb3H"
   },
   "outputs": [],
   "source": []
  }
 ],
 "metadata": {
  "accelerator": "GPU",
  "colab": {
   "collapsed_sections": [],
   "machine_shape": "hm",
   "name": "AxSearch.ipynb",
   "provenance": []
  },
  "kernelspec": {
   "display_name": "Python 3",
   "language": "python",
   "name": "python3"
  },
  "language_info": {
   "codemirror_mode": {
    "name": "ipython",
    "version": 3
   },
   "file_extension": ".py",
   "mimetype": "text/x-python",
   "name": "python",
   "nbconvert_exporter": "python",
   "pygments_lexer": "ipython3",
   "version": "3.6.10"
  }
 },
 "nbformat": 4,
 "nbformat_minor": 1
}
