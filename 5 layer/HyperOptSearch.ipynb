{
 "cells": [
  {
   "cell_type": "code",
   "execution_count": null,
   "metadata": {
    "colab": {
     "base_uri": "https://localhost:8080/",
     "height": 124
    },
    "colab_type": "code",
    "executionInfo": {
     "elapsed": 90804,
     "status": "ok",
     "timestamp": 1594194382585,
     "user": {
      "displayName": "Sutirtha Chakraborty",
      "photoUrl": "",
      "userId": "01557635706590467789"
     },
     "user_tz": -60
    },
    "id": "aty8eqFppk0G",
    "outputId": "8c50387c-acdb-4f22-f728-53a11a64ac5e"
   },
   "outputs": [],
   "source": [
    "from google.colab import drive\n",
    "drive.mount('/content/drive')"
   ]
  },
  {
   "cell_type": "code",
   "execution_count": null,
   "metadata": {
    "colab": {
     "base_uri": "https://localhost:8080/",
     "height": 101
    },
    "colab_type": "code",
    "id": "bp9fpo1Ikfwn",
    "outputId": "ed788b09-7536-4d46-871e-920b03d39931"
   },
   "outputs": [],
   "source": [
    "# If you are running on Google Colab, uncomment below to install the necessary dependencies \n",
    "# before beginning the exercise.\n",
    "\n",
    "print(\"Setting up colab environment\")\n",
    "!pip uninstall -y -q pyarrow\n",
    "!pip install -q https://s3-us-west-2.amazonaws.com/ray-wheels/latest/ray-0.8.0.dev5-cp36-cp36m-manylinux1_x86_64.whl\n",
    "!pip install -q ray[debug]\n",
    "\n",
    "# A hack to force the runtime to restart, needed to include the above dependencies.\n",
    "print(\"Done installing! Restarting via forced crash (this is not an issue).\")\n",
    "import os\n",
    "os._exit(0)"
   ]
  },
  {
   "cell_type": "code",
   "execution_count": null,
   "metadata": {
    "colab": {},
    "colab_type": "code",
    "executionInfo": {
     "elapsed": 4429,
     "status": "ok",
     "timestamp": 1594194382588,
     "user": {
      "displayName": "Sutirtha Chakraborty",
      "photoUrl": "",
      "userId": "01557635706590467789"
     },
     "user_tz": -60
    },
    "id": "YHb-I_Vpkiu9"
   },
   "outputs": [],
   "source": [
    "# If you are running on Google Colab, please install TensorFlow 2.0 by uncommenting below..\n",
    "\n",
    "try:\n",
    "  # %tensorflow_version only exists in Colab.\n",
    "  %tensorflow_version 2.x\n",
    "except Exception:\n",
    "  pass"
   ]
  },
  {
   "cell_type": "code",
   "execution_count": null,
   "metadata": {
    "colab": {
     "base_uri": "https://localhost:8080/",
     "height": 953
    },
    "colab_type": "code",
    "executionInfo": {
     "elapsed": 15659,
     "status": "ok",
     "timestamp": 1594194396647,
     "user": {
      "displayName": "Sutirtha Chakraborty",
      "photoUrl": "",
      "userId": "01557635706590467789"
     },
     "user_tz": -60
    },
    "id": "aoxLAjPXnbGM",
    "outputId": "935e052f-f8e3-495f-905e-b1291cdb4550"
   },
   "outputs": [],
   "source": [
    "!pip3 install ray xlrd pandas  tensorboardX"
   ]
  },
  {
   "cell_type": "code",
   "execution_count": null,
   "metadata": {
    "colab": {
     "base_uri": "https://localhost:8080/",
     "height": 34
    },
    "colab_type": "code",
    "executionInfo": {
     "elapsed": 21565,
     "status": "ok",
     "timestamp": 1594194406319,
     "user": {
      "displayName": "Sutirtha Chakraborty",
      "photoUrl": "",
      "userId": "01557635706590467789"
     },
     "user_tz": -60
    },
    "id": "rgMRfSCAeesr",
    "outputId": "d1905f18-4e3a-48ba-d5e9-e6e394175b03"
   },
   "outputs": [],
   "source": [
    "print(\"Setting up colab environment\")\n",
    "!pip3 uninstall -y -q pyarrow\n",
    "!pip3 install -q ray[debug]\n"
   ]
  },
  {
   "cell_type": "code",
   "execution_count": null,
   "metadata": {
    "colab": {},
    "colab_type": "code",
    "executionInfo": {
     "elapsed": 20323,
     "status": "ok",
     "timestamp": 1594194406321,
     "user": {
      "displayName": "Sutirtha Chakraborty",
      "photoUrl": "",
      "userId": "01557635706590467789"
     },
     "user_tz": -60
    },
    "id": "KU1Eb-fkhb1l"
   },
   "outputs": [],
   "source": [
    "# !pip3 install tensorflow keras scikit-learn pandas"
   ]
  },
  {
   "cell_type": "code",
   "execution_count": null,
   "metadata": {
    "colab": {},
    "colab_type": "code",
    "executionInfo": {
     "elapsed": 21135,
     "status": "ok",
     "timestamp": 1594194408178,
     "user": {
      "displayName": "Sutirtha Chakraborty",
      "photoUrl": "",
      "userId": "01557635706590467789"
     },
     "user_tz": -60
    },
    "id": "ApMfN5xMnJSU"
   },
   "outputs": [],
   "source": [
    "import numpy as np\n",
    "np.random.seed(0)\n",
    "\n",
    "import tensorflow as tf\n",
    "try:\n",
    "    tf.get_logger().setLevel('INFO')\n",
    "except Exception as exc:\n",
    "    print(exc)\n",
    "import warnings\n",
    "warnings.simplefilter(\"ignore\")\n",
    "\n",
    "from tensorflow.keras.models import Sequential\n",
    "from tensorflow.keras.layers import Dense, LSTM,Dropout\n",
    "\n",
    "from tensorflow.keras.optimizers import SGD, Adam\n",
    "from tensorflow.keras.callbacks import ModelCheckpoint\n",
    "\n",
    "from sklearn.model_selection import train_test_split\n",
    "\n",
    "import ray\n",
    "from ray import tune\n",
    "from ray.tune.examples.utils import get_iris_data\n",
    "\n",
    "import inspect\n",
    "import pandas as pd\n",
    "import matplotlib.pyplot as plt\n",
    "plt.style.use('ggplot')\n",
    "%matplotlib inline"
   ]
  },
  {
   "cell_type": "code",
   "execution_count": null,
   "metadata": {
    "colab": {
     "base_uri": "https://localhost:8080/",
     "height": 606
    },
    "colab_type": "code",
    "executionInfo": {
     "elapsed": 23475,
     "status": "ok",
     "timestamp": 1594194411301,
     "user": {
      "displayName": "Sutirtha Chakraborty",
      "photoUrl": "",
      "userId": "01557635706590467789"
     },
     "user_tz": -60
    },
    "id": "JE3O0Kbthb1s",
    "outputId": "a2b564e9-c876-4598-8900-b766cdb022cb"
   },
   "outputs": [],
   "source": [
    "!pip3 install ray[tune] ray[rllib] matplotlib"
   ]
  },
  {
   "cell_type": "code",
   "execution_count": null,
   "metadata": {
    "colab": {},
    "colab_type": "code",
    "executionInfo": {
     "elapsed": 333401,
     "status": "ok",
     "timestamp": 1594194721920,
     "user": {
      "displayName": "Sutirtha Chakraborty",
      "photoUrl": "",
      "userId": "01557635706590467789"
     },
     "user_tz": -60
    },
    "id": "4HRWGKtZpu3i"
   },
   "outputs": [],
   "source": [
    "import os\n",
    "import pandas as pd\n",
    "path = \"/content/drive/My Drive/excels/\"\n",
    "files = os.listdir(path)\n",
    "\n",
    "files_xls = [f for f in files if f[-3:] == 'xls']\n",
    "df = pd.DataFrame()\n",
    "for f in files_xls:\n",
    "    fp=path+f\n",
    "    data = pd.read_excel(fp, 'Sheet')\n",
    "    data.columns = ['Time', 'output','outputPitch','outputVolm','Player1BPM','Player1Pitch','Player1Volm', 'Player2BPM','Player2Pitch','Player2Volm', 'Player3BPM','Player3Pitch','Player3Volm', 'Player4BPM','Player4Pitch','Player4Volm']\n",
    "    df = df.append(data)   \n",
    "df.columns = ['Time', 'output','outputPitch','outputVolm','Player1BPM','Player1Pitch','Player1Volm', 'Player2BPM','Player2Pitch','Player2Volm', 'Player3BPM','Player3Pitch','Player3Volm', 'Player4BPM','Player4Pitch','Player4Volm']\n",
    "y =  df[['output']]\n",
    "X = df[['Time','Player1BPM','Player1Pitch','Player1Volm', 'Player2BPM','Player2Pitch','Player2Volm', 'Player3BPM','Player3Pitch','Player3Volm', 'Player4BPM','Player4Pitch','Player4Volm']]"
   ]
  },
  {
   "cell_type": "code",
   "execution_count": null,
   "metadata": {
    "colab": {},
    "colab_type": "code",
    "executionInfo": {
     "elapsed": 332658,
     "status": "ok",
     "timestamp": 1594194721924,
     "user": {
      "displayName": "Sutirtha Chakraborty",
      "photoUrl": "",
      "userId": "01557635706590467789"
     },
     "user_tz": -60
    },
    "id": "qjYWgmARnJSY"
   },
   "outputs": [],
   "source": [
    "# df = pd.read_excel('/content/drive/My Drive/excels/A Classic Education - NightOwl.stem.xls', 'Sheet')\n",
    "# df.columns = ['Time', 'output','outputPitch','outputVolm','Player1BPM','Player1Pitch','Player1Volm', 'Player2BPM','Player2Pitch','Player2Volm', 'Player3BPM','Player3Pitch','Player3Volm', 'Player4BPM','Player4Pitch','Player4Volm']\n",
    "# y =  df[['output']]\n",
    "# X = df[['Time','Player1BPM','Player1Pitch','Player1Volm', 'Player2BPM','Player2Pitch','Player2Volm', 'Player3BPM','Player3Pitch','Player3Volm', 'Player4BPM','Player4Pitch','Player4Volm']]"
   ]
  },
  {
   "cell_type": "code",
   "execution_count": null,
   "metadata": {
    "colab": {
     "base_uri": "https://localhost:8080/",
     "height": 202
    },
    "colab_type": "code",
    "executionInfo": {
     "elapsed": 331971,
     "status": "ok",
     "timestamp": 1594194721927,
     "user": {
      "displayName": "Sutirtha Chakraborty",
      "photoUrl": "",
      "userId": "01557635706590467789"
     },
     "user_tz": -60
    },
    "id": "vNj36EimnJSd",
    "outputId": "e1e83c1d-6d1a-45f3-c879-409118bc2195"
   },
   "outputs": [],
   "source": [
    "X.head()"
   ]
  },
  {
   "cell_type": "code",
   "execution_count": null,
   "metadata": {
    "colab": {
     "base_uri": "https://localhost:8080/",
     "height": 202
    },
    "colab_type": "code",
    "executionInfo": {
     "elapsed": 331352,
     "status": "ok",
     "timestamp": 1594194721928,
     "user": {
      "displayName": "Sutirtha Chakraborty",
      "photoUrl": "",
      "userId": "01557635706590467789"
     },
     "user_tz": -60
    },
    "id": "ubR9W1htnJSh",
    "outputId": "b9f45813-5e64-4e9f-fd58-e91b20b07441"
   },
   "outputs": [],
   "source": [
    "y.head()"
   ]
  },
  {
   "cell_type": "code",
   "execution_count": null,
   "metadata": {
    "colab": {},
    "colab_type": "code",
    "executionInfo": {
     "elapsed": 331032,
     "status": "ok",
     "timestamp": 1594194722147,
     "user": {
      "displayName": "Sutirtha Chakraborty",
      "photoUrl": "",
      "userId": "01557635706590467789"
     },
     "user_tz": -60
    },
    "id": "LaJHpUXWnJSv"
   },
   "outputs": [],
   "source": [
    "train_x, test_x, train_y, test_y = train_test_split(X, y, test_size=0.1,shuffle=False,random_state=42)"
   ]
  },
  {
   "cell_type": "code",
   "execution_count": null,
   "metadata": {
    "colab": {},
    "colab_type": "code",
    "executionInfo": {
     "elapsed": 331125,
     "status": "ok",
     "timestamp": 1594194722821,
     "user": {
      "displayName": "Sutirtha Chakraborty",
      "photoUrl": "",
      "userId": "01557635706590467789"
     },
     "user_tz": -60
    },
    "id": "b1J3d_1inJSk"
   },
   "outputs": [],
   "source": [
    "from sklearn.preprocessing import MinMaxScaler\n",
    "scaler_X = MinMaxScaler()\n",
    "X_train_scaled = scaler_X.fit_transform(train_x)\n",
    "X_test_scaled = scaler_X.transform(test_x)"
   ]
  },
  {
   "cell_type": "code",
   "execution_count": null,
   "metadata": {
    "colab": {
     "base_uri": "https://localhost:8080/",
     "height": 52
    },
    "colab_type": "code",
    "executionInfo": {
     "elapsed": 330568,
     "status": "ok",
     "timestamp": 1594194722823,
     "user": {
      "displayName": "Sutirtha Chakraborty",
      "photoUrl": "",
      "userId": "01557635706590467789"
     },
     "user_tz": -60
    },
    "id": "wbdX_iVMWuQ4",
    "outputId": "761dfe9b-1d87-4fae-b824-0571c9d4ddd1"
   },
   "outputs": [],
   "source": [
    "train_x = np.array(X_train_scaled) #X_train_scaled\n",
    "train_x = train_x[:, :, None]\n",
    "print(train_x.shape)\n",
    "test_x = np.array(X_test_scaled)#X_test_scaled\n",
    "test_x = test_x[:, :, None]\n",
    "print(test_x.shape)"
   ]
  },
  {
   "cell_type": "code",
   "execution_count": null,
   "metadata": {
    "colab": {},
    "colab_type": "code",
    "executionInfo": {
     "elapsed": 330047,
     "status": "ok",
     "timestamp": 1594194722825,
     "user": {
      "displayName": "Sutirtha Chakraborty",
      "photoUrl": "",
      "userId": "01557635706590467789"
     },
     "user_tz": -60
    },
    "id": "XXVvvnBNnJSp"
   },
   "outputs": [],
   "source": [
    "###############------------- ORIGINAL ONE WITH 3 LAYERS------------############ RUNNING SUCCESSFully\n",
    "# def create_model(learning_rate, dense_1, dense_2 ,dense_3):\n",
    "#     assert learning_rate > 0 and dense_1 > 0 and dense_2 > 0, \"Did you set the right configuration?\"\n",
    "#     model = Sequential()\n",
    "#     model.add(Dense(int(dense_1), input_shape=(13, ), activation='relu', name='fc1'))\n",
    "#     model.add(Dense(int(dense_2), activation='relu', name='fc2'))\n",
    "#     model.add(Dense(int(dense_2), activation='relu', name='fc3'))\n",
    "#     model.add(Dense(1, activation='relu', name='output'))\n",
    "#     optimizer = SGD(lr=learning_rate)\n",
    "#     model.compile(optimizer, loss='mae', metrics=['mse'])\n",
    "#     return model"
   ]
  },
  {
   "cell_type": "code",
   "execution_count": null,
   "metadata": {
    "colab": {},
    "colab_type": "code",
    "executionInfo": {
     "elapsed": 329435,
     "status": "ok",
     "timestamp": 1594194722827,
     "user": {
      "displayName": "Sutirtha Chakraborty",
      "photoUrl": "",
      "userId": "01557635706590467789"
     },
     "user_tz": -60
    },
    "id": "wIUdTSSjTuGo"
   },
   "outputs": [],
   "source": [
    "###############------------- LSTM ONE WITH 3 LAYERS------------############\n",
    "def create_model(learning_rate, lstm_1, lstm_2 ,lstm_3):\n",
    "    model = Sequential()\n",
    "    model.add(LSTM(int(lstm_1), return_sequences=True, input_shape=(13, 1)))\n",
    "    model.add(Dropout(0.3))\n",
    "    model.add(LSTM(int(lstm_2), return_sequences=True))\n",
    "    model.add(Dropout(0.3))\n",
    "    model.add(LSTM(int(lstm_3)))\n",
    "    model.add(Dropout(0.0))\n",
    "    model.add(Dense(units=1))\n",
    "    optimizer = SGD(lr=learning_rate)\n",
    "    model.compile(optimizer, loss='mae', metrics=['mse'])\n",
    "    return model"
   ]
  },
  {
   "cell_type": "code",
   "execution_count": null,
   "metadata": {
    "colab": {},
    "colab_type": "code",
    "executionInfo": {
     "elapsed": 328893,
     "status": "ok",
     "timestamp": 1594194722828,
     "user": {
      "displayName": "Sutirtha Chakraborty",
      "photoUrl": "",
      "userId": "01557635706590467789"
     },
     "user_tz": -60
    },
    "id": "gBL0LyZPnJS0"
   },
   "outputs": [],
   "source": [
    "# model = create_model(learning_rate=0.1, dense_1 = 2, dense_2 = 2,dense_3=2)"
   ]
  },
  {
   "cell_type": "code",
   "execution_count": null,
   "metadata": {
    "colab": {},
    "colab_type": "code",
    "executionInfo": {
     "elapsed": 337537,
     "status": "ok",
     "timestamp": 1594194732071,
     "user": {
      "displayName": "Sutirtha Chakraborty",
      "photoUrl": "",
      "userId": "01557635706590467789"
     },
     "user_tz": -60
    },
    "id": "JphdsLdoTcav"
   },
   "outputs": [],
   "source": [
    "model = create_model(learning_rate=0.1, lstm_1 = 50, lstm_2 = 50,lstm_3=50)"
   ]
  },
  {
   "cell_type": "code",
   "execution_count": null,
   "metadata": {
    "colab": {
     "base_uri": "https://localhost:8080/",
     "height": 398
    },
    "colab_type": "code",
    "executionInfo": {
     "elapsed": 336958,
     "status": "ok",
     "timestamp": 1594194732074,
     "user": {
      "displayName": "Sutirtha Chakraborty",
      "photoUrl": "",
      "userId": "01557635706590467789"
     },
     "user_tz": -60
    },
    "id": "5xYKcbyznJS3",
    "outputId": "16ae4f74-a7b2-4aa8-b53b-ba5c70ffab42"
   },
   "outputs": [],
   "source": [
    "model.summary()"
   ]
  },
  {
   "cell_type": "code",
   "execution_count": null,
   "metadata": {
    "colab": {},
    "colab_type": "code",
    "executionInfo": {
     "elapsed": 336194,
     "status": "ok",
     "timestamp": 1594194732075,
     "user": {
      "displayName": "Sutirtha Chakraborty",
      "photoUrl": "",
      "userId": "01557635706590467789"
     },
     "user_tz": -60
    },
    "id": "RvJ_wAUdnJS6"
   },
   "outputs": [],
   "source": [
    "# test_model = model.fit(train_x, train_y, validation_data=(test_x, test_y), verbose=1, batch_size = 512, epochs = 2)"
   ]
  },
  {
   "cell_type": "code",
   "execution_count": null,
   "metadata": {
    "colab": {},
    "colab_type": "code",
    "executionInfo": {
     "elapsed": 335532,
     "status": "ok",
     "timestamp": 1594194732076,
     "user": {
      "displayName": "Sutirtha Chakraborty",
      "photoUrl": "",
      "userId": "01557635706590467789"
     },
     "user_tz": -60
    },
    "id": "j59HXjLvnJS8"
   },
   "outputs": [],
   "source": [
    "def train_on_iris():\n",
    "    model = create_model(learning_rate=0.1, lstm_1 = 512, lstm_2 = 512, lstm_3 = 512)\n",
    "    # This saves the top model. `accuracy` is only available in TF2.0.\n",
    "    checkpoint_callback = ModelCheckpoint(\"model.h5\", monitor='mse', save_best_only=True, save_freq=2)\n",
    "\n",
    "    # Train the model\n",
    "    model.fit(\n",
    "        train_x, train_y, \n",
    "        validation_data=(test_x, test_y),\n",
    "        verbose=1, batch_size=512, epochs=2, callbacks=[checkpoint_callback])\n",
    "    return model"
   ]
  },
  {
   "cell_type": "code",
   "execution_count": null,
   "metadata": {
    "colab": {},
    "colab_type": "code",
    "executionInfo": {
     "elapsed": 334197,
     "status": "ok",
     "timestamp": 1594194732078,
     "user": {
      "displayName": "Sutirtha Chakraborty",
      "photoUrl": "",
      "userId": "01557635706590467789"
     },
     "user_tz": -60
    },
    "id": "s6nvr-VBnJS-"
   },
   "outputs": [],
   "source": [
    "#original_model = train_on_iris()"
   ]
  },
  {
   "cell_type": "code",
   "execution_count": null,
   "metadata": {
    "colab": {
     "base_uri": "https://localhost:8080/",
     "height": 223
    },
    "colab_type": "code",
    "executionInfo": {
     "elapsed": 278909,
     "status": "error",
     "timestamp": 1594098947132,
     "user": {
      "displayName": "Sutirtha Chakraborty",
      "photoUrl": "",
      "userId": "01557635706590467789"
     },
     "user_tz": -60
    },
    "id": "7WT75FuLqkbX",
    "outputId": "295e0d90-ed5d-410e-ff92-4cd5da8bed87"
   },
   "outputs": [],
   "source": [
    "# Open the file\n",
    "with open('/content/drive/My Drive/HyperOptSearchreport_orig.txt','w') as fh:\n",
    "    # Pass the file handle in as a lambda function to make it callable\n",
    "    original_model.summary(print_fn=lambda x: fh.write(x + '\\n'))\n",
    "\n",
    "print(original_model.summary())"
   ]
  },
  {
   "cell_type": "code",
   "execution_count": null,
   "metadata": {
    "colab": {},
    "colab_type": "code",
    "executionInfo": {
     "elapsed": 330753,
     "status": "ok",
     "timestamp": 1594194732079,
     "user": {
      "displayName": "Sutirtha Chakraborty",
      "photoUrl": "",
      "userId": "01557635706590467789"
     },
     "user_tz": -60
    },
    "id": "HDNFmEP1nJTB"
   },
   "outputs": [],
   "source": [
    "import tensorflow.keras as keras\n",
    "from ray.tune import track"
   ]
  },
  {
   "cell_type": "code",
   "execution_count": null,
   "metadata": {
    "colab": {},
    "colab_type": "code",
    "executionInfo": {
     "elapsed": 329886,
     "status": "ok",
     "timestamp": 1594194732080,
     "user": {
      "displayName": "Sutirtha Chakraborty",
      "photoUrl": "",
      "userId": "01557635706590467789"
     },
     "user_tz": -60
    },
    "id": "2jqJzMlGBcsg"
   },
   "outputs": [],
   "source": [
    "    # config = {\n",
    "    #     \"num_samples\": 10 ,\n",
    "    #     \"config\": {\n",
    "    #         \"iterations\": 100,\n",
    "    #     },\n",
    "    #     \"stop\": {\n",
    "    #         \"timesteps_total\": 100\n",
    "    #     },\n",
    "    # }"
   ]
  },
  {
   "cell_type": "code",
   "execution_count": null,
   "metadata": {
    "colab": {},
    "colab_type": "code",
    "executionInfo": {
     "elapsed": 329326,
     "status": "ok",
     "timestamp": 1594194732081,
     "user": {
      "displayName": "Sutirtha Chakraborty",
      "photoUrl": "",
      "userId": "01557635706590467789"
     },
     "user_tz": -60
    },
    "id": "_g6k5UzqnJTD"
   },
   "outputs": [],
   "source": [
    "class TuneReporterCallback(keras.callbacks.Callback):\n",
    "    def __init__(self, logs={}):\n",
    "        self.iteration = 0\n",
    "        super(TuneReporterCallback, self).__init__()\n",
    "\n",
    "    def on_epoch_end(self, batch, logs={}):\n",
    "        self.iteration += 1\n",
    "        track.log(keras_info=logs, mean_accuracy=logs.get(\"mse\"), mean_loss=logs.get(\"mae\"))\n"
   ]
  },
  {
   "cell_type": "code",
   "execution_count": null,
   "metadata": {
    "colab": {},
    "colab_type": "code",
    "executionInfo": {
     "elapsed": 328755,
     "status": "ok",
     "timestamp": 1594194732082,
     "user": {
      "displayName": "Sutirtha Chakraborty",
      "photoUrl": "",
      "userId": "01557635706590467789"
     },
     "user_tz": -60
    },
    "id": "z9_z4Kl9V_-u"
   },
   "outputs": [],
   "source": [
    "def tune_iris(config):  # TODO: Change me.\n",
    "    model = create_model(learning_rate=config[\"lr\"], lstm_1=config[\"lstm_1\"], lstm_2=config[\"lstm_2\"],lstm_3=config[\"lstm_3\"])\n",
    "    checkpoint_callback = ModelCheckpoint(\n",
    "        \"model.h5\", monitor='loss', save_best_only=True, save_freq=2)\n",
    "\n",
    "    # Enable Tune to make intermediate decisions by using a Tune Callback hook. This is Keras specific.\n",
    "    callbacks = [checkpoint_callback, TuneReporterCallback()]\n",
    "    \n",
    "    # Train the model\n",
    "    model.fit(\n",
    "        train_x, train_y, \n",
    "        validation_data=(test_x, test_y),\n",
    "        verbose=1, \n",
    "        batch_size=512, \n",
    "        epochs=10, \n",
    "        callbacks=callbacks)"
   ]
  },
  {
   "cell_type": "code",
   "execution_count": null,
   "metadata": {
    "colab": {},
    "colab_type": "code",
    "executionInfo": {
     "elapsed": 327355,
     "status": "ok",
     "timestamp": 1594194732083,
     "user": {
      "displayName": "Sutirtha Chakraborty",
      "photoUrl": "",
      "userId": "01557635706590467789"
     },
     "user_tz": -60
    },
    "id": "dpFv-Q8LnJTJ"
   },
   "outputs": [],
   "source": [
    "assert len(inspect.getargspec(tune_iris).args) == 1, \"The `tune_iris` function needs to take in the arg `config`.\""
   ]
  },
  {
   "cell_type": "code",
   "execution_count": null,
   "metadata": {
    "colab": {
     "base_uri": "https://localhost:8080/",
     "height": 380
    },
    "colab_type": "code",
    "executionInfo": {
     "elapsed": 327028,
     "status": "error",
     "timestamp": 1594194732438,
     "user": {
      "displayName": "Sutirtha Chakraborty",
      "photoUrl": "",
      "userId": "01557635706590467789"
     },
     "user_tz": -60
    },
    "id": "ejdTIlRUnJTM",
    "outputId": "e2b16442-dfd7-4e56-8be1-d8ab626b26ae"
   },
   "outputs": [],
   "source": [
    "print(\"Test-running to make sure this function will run correctly.\")\n",
    "tune.track.init()  # For testing purposes only.\n",
    "tune_iris({\"lr\": 0.1, \"lstm_1\": 64, \"lstm_2\": 32, \"lstm_3\": 1})\n",
    "print(\"Success!\")"
   ]
  },
  {
   "cell_type": "code",
   "execution_count": null,
   "metadata": {
    "colab": {},
    "colab_type": "code",
    "executionInfo": {
     "elapsed": 540,
     "status": "ok",
     "timestamp": 1594195144183,
     "user": {
      "displayName": "Sutirtha Chakraborty",
      "photoUrl": "",
      "userId": "01557635706590467789"
     },
     "user_tz": -60
    },
    "id": "a-_fsOVynJTO"
   },
   "outputs": [],
   "source": [
    "hyperparameter_space = {\n",
    "    \"lr\": tune.loguniform(0.001, 0.1),  \n",
    "    \"lstm_1\": tune.uniform(2, 128),\n",
    "    \"lstm_2\": tune.uniform(2, 128),\n",
    "    \"lstm_3\": tune.uniform(2, 128),\n",
    "}"
   ]
  },
  {
   "cell_type": "code",
   "execution_count": null,
   "metadata": {
    "colab": {
     "base_uri": "https://localhost:8080/",
     "height": 294
    },
    "colab_type": "code",
    "executionInfo": {
     "elapsed": 4581,
     "status": "ok",
     "timestamp": 1594195148939,
     "user": {
      "displayName": "Sutirtha Chakraborty",
      "photoUrl": "",
      "userId": "01557635706590467789"
     },
     "user_tz": -60
    },
    "id": "0L4ed3Em_UDd",
    "outputId": "e4bef907-88a5-43c2-ce6c-adb00cbcedbe"
   },
   "outputs": [],
   "source": [
    "pip install -U hyperopt\n"
   ]
  },
  {
   "cell_type": "code",
   "execution_count": null,
   "metadata": {
    "colab": {
     "base_uri": "https://localhost:8080/",
     "height": 1000,
     "output_embedded_package_id": "1CikdNxm7t03BLE2bAuL1ibOuZyS7F86g"
    },
    "colab_type": "code",
    "id": "kEE6ckuFnJTQ",
    "outputId": "9c0620a3-0b76-4dd6-a60b-4e70c12f2116"
   },
   "outputs": [],
   "source": [
    "# This seeds the hyperparameter sampling.\n",
    "import numpy as np; np.random.seed(5)  \n",
    "hyperparameter_space = hyperparameter_space  # TODO: Fill me out.\n",
    "num_samples = 25\n",
    "\n",
    "####################################################################################################\n",
    "################ This is just a validation function for tutorial purposes only. ####################\n",
    "HP_KEYS = [\"lr\", \"lstm_1\", \"lstm_2\", \"lstm_3\"]\n",
    "assert all(key in hyperparameter_space for key in HP_KEYS), (\n",
    "    \"The hyperparameter space is not fully designated. It must include all of {}\".format(HP_KEYS))\n",
    "######################################################################################################\n",
    "\n",
    "ray.shutdown()  # Restart Ray defensively in case the ray connection is lost. \n",
    "ray.init(log_to_driver=False)\n",
    "# We clean out the logs before running for a clean visualization later.\n",
    "! rm -rf ~/ray_results/tune_iris\n",
    "from ray.tune.schedulers import AsyncHyperBandScheduler\n",
    "from ray.tune.suggest.hyperopt import HyperOptSearch\n",
    "import ray\n",
    "from ray import tune\n",
    "from hyperopt import hp\n",
    "\n",
    "space = {\n",
    "    'lr': hp.uniform('lr', 0.001, 0.1),\n",
    "    'lstm_1': hp.uniform('lstm_1', 2, 512),\n",
    "    'lstm_2': hp.uniform('lstm_2', 2, 512),\n",
    "    'lstm_3': hp.uniform('lstm_3', 2, 512)\n",
    "}\n",
    "current_best_params = [{\n",
    "    'lr': 0.005,\n",
    "    'lstm_1': 311,\n",
    "    'lstm_2': 81,\n",
    "    'lstm_3': 16\n",
    "}]\n",
    "algo = HyperOptSearch(\n",
    "    space, metric=\"keras_info/mse\", mode=\"min\",\n",
    "    points_to_evaluate=current_best_params)\n",
    "\n",
    "#scheduler = AsyncHyperBandScheduler(metric=\"keras_info/mse\", mode=\"min\")\n",
    "\n",
    "analysis= tune.run(tune_iris,search_alg=algo,resources_per_trial = {\"cpu\": 4, \"gpu\": 1},num_samples = num_samples)\n",
    "\n",
    "assert len(analysis.trials) ==25, \"Did you set the correct number of samples?\""
   ]
  },
  {
   "cell_type": "code",
   "execution_count": null,
   "metadata": {
    "colab": {},
    "colab_type": "code",
    "executionInfo": {
     "elapsed": 1668179,
     "status": "aborted",
     "timestamp": 1594196815387,
     "user": {
      "displayName": "Sutirtha Chakraborty",
      "photoUrl": "",
      "userId": "01557635706590467789"
     },
     "user_tz": -60
    },
    "id": "i3zWjJ2VnJTS"
   },
   "outputs": [],
   "source": [
    "# Obtain the directory where the best model is saved.\n",
    "print(\"You can use any of the following columns to get the best model: \\n{}.\".format(\n",
    "    [k for k in analysis.dataframe() if k.startswith(\"keras_info\")]))\n",
    "print(\"=\" * 10)\n",
    "logdir = analysis.get_best_logdir(\"keras_info/val_loss\", mode=\"min\")\n",
    "# We saved the model as `model.h5` in the logdir of the trial.\n",
    "from tensorflow.keras.models import load_model\n",
    "tuned_model = load_model(logdir + \"/model.h5\")"
   ]
  },
  {
   "cell_type": "code",
   "execution_count": null,
   "metadata": {
    "colab": {},
    "colab_type": "code",
    "executionInfo": {
     "elapsed": 1667409,
     "status": "aborted",
     "timestamp": 1594196815392,
     "user": {
      "displayName": "Sutirtha Chakraborty",
      "photoUrl": "",
      "userId": "01557635706590467789"
     },
     "user_tz": -60
    },
    "id": "45gktIrQr9lY"
   },
   "outputs": [],
   "source": [
    "# Open the file\n",
    "with open('/content/drive/My Drive/HyperOptSearchreport_tune.txt','w') as fh:\n",
    "    # Pass the file handle in as a lambda function to make it callable\n",
    "    tuned_model.summary(print_fn=lambda x: fh.write(x + '\\n'))\n",
    "\n",
    "print(tuned_model.summary())"
   ]
  },
  {
   "cell_type": "code",
   "execution_count": null,
   "metadata": {
    "colab": {},
    "colab_type": "code",
    "id": "kelKOf28nJTX"
   },
   "outputs": [],
   "source": [
    "predicted_value = original_model.predict(test_x)\n",
    "predicted_value.shape"
   ]
  },
  {
   "cell_type": "code",
   "execution_count": null,
   "metadata": {
    "colab": {},
    "colab_type": "code",
    "id": "uoa-qPmkqVDZ"
   },
   "outputs": [],
   "source": [
    "test_y.shape"
   ]
  },
  {
   "cell_type": "code",
   "execution_count": null,
   "metadata": {
    "colab": {},
    "colab_type": "code",
    "id": "hnc7TVAnnJTZ"
   },
   "outputs": [],
   "source": [
    "predicted_value_tuned = tuned_model.predict(test_x)\n",
    "predicted_value_tuned.shape"
   ]
  },
  {
   "cell_type": "code",
   "execution_count": null,
   "metadata": {
    "colab": {},
    "colab_type": "code",
    "id": "Gnhq3u25nJTe"
   },
   "outputs": [],
   "source": [
    "# print(\"Loss is {:0.4f}\".format(tuned_loss))\n",
    "# print(\"Tuned Error is {:0.4f}\".format(tuned_error))\n",
    "# #print(\"The original un-tuned model had an accuracy of {:0.4f}\".format(original_accuracy))\n",
    "# predicted_value = tuned_model.predict(test_x)"
   ]
  },
  {
   "cell_type": "code",
   "execution_count": null,
   "metadata": {
    "colab": {},
    "colab_type": "code",
    "id": "VvzAquVPnJTg"
   },
   "outputs": [],
   "source": [
    "predicted_value_tuned"
   ]
  },
  {
   "cell_type": "code",
   "execution_count": null,
   "metadata": {
    "colab": {},
    "colab_type": "code",
    "id": "MHMmNkoknJTi"
   },
   "outputs": [],
   "source": [
    "import matplotlib.pyplot as plt\n",
    "# plt.plot(test_y)\n",
    "plt.plot(predicted_value)\n",
    "plt.plot(predicted_value_tuned)\n",
    "\n",
    "plt.show()"
   ]
  },
  {
   "cell_type": "code",
   "execution_count": null,
   "metadata": {
    "colab": {},
    "colab_type": "code",
    "id": "LBqc-AbPpreY"
   },
   "outputs": [],
   "source": [
    "import matplotlib.pyplot as plt\n",
    "plt.plot(predicted_value)\n",
    "\n",
    "plt.show()"
   ]
  },
  {
   "cell_type": "code",
   "execution_count": null,
   "metadata": {
    "colab": {},
    "colab_type": "code",
    "id": "HcE1M2P56One"
   },
   "outputs": [],
   "source": [
    "import matplotlib.pyplot as plt\n",
    "\n",
    "plt.plot(predicted_value_tuned)\n",
    "plt.show()"
   ]
  },
  {
   "cell_type": "code",
   "execution_count": null,
   "metadata": {
    "colab": {},
    "colab_type": "code",
    "id": "uPT8IMhnnJTk"
   },
   "outputs": [],
   "source": [
    "import matplotlib.pyplot as plt\n",
    "plt.plot(test_y)\n",
    "plt.plot(predicted_value_tuned)\n",
    "plt.plot(predicted_value)\n",
    "plt.show()"
   ]
  },
  {
   "cell_type": "code",
   "execution_count": null,
   "metadata": {
    "colab": {},
    "colab_type": "code",
    "id": "9Y41ADfRnJTp"
   },
   "outputs": [],
   "source": [
    "%load_ext tensorboard\n",
    "%tensorboard --logdir ~/ray_results/tune_iris"
   ]
  },
  {
   "cell_type": "code",
   "execution_count": null,
   "metadata": {
    "colab": {},
    "colab_type": "code",
    "id": "abW7Fq1ahb3H"
   },
   "outputs": [],
   "source": []
  }
 ],
 "metadata": {
  "accelerator": "GPU",
  "colab": {
   "collapsed_sections": [],
   "machine_shape": "hm",
   "name": "HyperOptSearch.ipynb",
   "provenance": [
    {
     "file_id": "1MMjTB8GjmWOkLo_CnTHFyCyhyN_T91fJ",
     "timestamp": 1593942673801
    },
    {
     "file_id": "1ipRu6_Lu2zuNsOzzO7vYbZ8GvSfUxSjI",
     "timestamp": 1593942665213
    },
    {
     "file_id": "1eqKcxgdvIIqhA4gfqOb8rK9RwYUfQAw0",
     "timestamp": 1593942564191
    },
    {
     "file_id": "1baW0S6ROH_lp0-1u4yYQyklqDyUu7OTy",
     "timestamp": 1593942551739
    }
   ]
  },
  "kernelspec": {
   "display_name": "Python 3",
   "language": "python",
   "name": "python3"
  },
  "language_info": {
   "codemirror_mode": {
    "name": "ipython",
    "version": 3
   },
   "file_extension": ".py",
   "mimetype": "text/x-python",
   "name": "python",
   "nbconvert_exporter": "python",
   "pygments_lexer": "ipython3",
   "version": "3.6.10"
  }
 },
 "nbformat": 4,
 "nbformat_minor": 1
}
